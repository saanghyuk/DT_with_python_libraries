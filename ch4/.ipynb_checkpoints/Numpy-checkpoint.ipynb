{
 "cells": [
  {
   "cell_type": "code",
   "execution_count": 1,
   "metadata": {
    "collapsed": true
   },
   "outputs": [],
   "source": [
    "import numpy as np"
   ]
  },
  {
   "cell_type": "code",
   "execution_count": 2,
   "metadata": {
    "collapsed": true
   },
   "outputs": [],
   "source": [
    "data = np.random.randn(2, 3)"
   ]
  },
  {
   "cell_type": "code",
   "execution_count": 3,
   "metadata": {},
   "outputs": [
    {
     "data": {
      "text/plain": [
       "array([[ 1.36790176, -1.90513572,  0.26520039],\n",
       "       [-1.20636264, -0.96360692, -1.14437038]])"
      ]
     },
     "execution_count": 3,
     "metadata": {},
     "output_type": "execute_result"
    }
   ],
   "source": [
    "data"
   ]
  },
  {
   "cell_type": "code",
   "execution_count": 4,
   "metadata": {},
   "outputs": [
    {
     "data": {
      "text/plain": [
       "array([[ 13.67901756, -19.0513572 ,   2.65200389],\n",
       "       [-12.06362643,  -9.63606916, -11.44370376]])"
      ]
     },
     "execution_count": 4,
     "metadata": {},
     "output_type": "execute_result"
    }
   ],
   "source": [
    "data*10"
   ]
  },
  {
   "cell_type": "code",
   "execution_count": 5,
   "metadata": {},
   "outputs": [
    {
     "data": {
      "text/plain": [
       "(2, 3)"
      ]
     },
     "execution_count": 5,
     "metadata": {},
     "output_type": "execute_result"
    }
   ],
   "source": [
    "data.shape"
   ]
  },
  {
   "cell_type": "code",
   "execution_count": 6,
   "metadata": {},
   "outputs": [
    {
     "data": {
      "text/plain": [
       "dtype('float64')"
      ]
     },
     "execution_count": 6,
     "metadata": {},
     "output_type": "execute_result"
    }
   ],
   "source": [
    "data.dtype"
   ]
  },
  {
   "cell_type": "code",
   "execution_count": 7,
   "metadata": {
    "collapsed": true
   },
   "outputs": [],
   "source": [
    "data1 = [6, 7.5, 8, 0, 1]"
   ]
  },
  {
   "cell_type": "code",
   "execution_count": 8,
   "metadata": {
    "collapsed": true
   },
   "outputs": [],
   "source": [
    "arr1 = np.array(data1)"
   ]
  },
  {
   "cell_type": "code",
   "execution_count": 9,
   "metadata": {},
   "outputs": [
    {
     "data": {
      "text/plain": [
       "array([ 6. ,  7.5,  8. ,  0. ,  1. ])"
      ]
     },
     "execution_count": 9,
     "metadata": {},
     "output_type": "execute_result"
    }
   ],
   "source": [
    "arr1"
   ]
  },
  {
   "cell_type": "code",
   "execution_count": 10,
   "metadata": {
    "collapsed": true
   },
   "outputs": [],
   "source": [
    "data2 = [[1,2,3,4], [5,6,7,8]]"
   ]
  },
  {
   "cell_type": "code",
   "execution_count": 11,
   "metadata": {
    "collapsed": true
   },
   "outputs": [],
   "source": [
    "arr2 = np.array(data2)"
   ]
  },
  {
   "cell_type": "code",
   "execution_count": 12,
   "metadata": {},
   "outputs": [
    {
     "data": {
      "text/plain": [
       "array([[1, 2, 3, 4],\n",
       "       [5, 6, 7, 8]])"
      ]
     },
     "execution_count": 12,
     "metadata": {},
     "output_type": "execute_result"
    }
   ],
   "source": [
    "arr2"
   ]
  },
  {
   "cell_type": "code",
   "execution_count": 13,
   "metadata": {},
   "outputs": [
    {
     "data": {
      "text/plain": [
       "2"
      ]
     },
     "execution_count": 13,
     "metadata": {},
     "output_type": "execute_result"
    }
   ],
   "source": [
    "arr2.ndim"
   ]
  },
  {
   "cell_type": "code",
   "execution_count": 14,
   "metadata": {},
   "outputs": [
    {
     "data": {
      "text/plain": [
       "1"
      ]
     },
     "execution_count": 14,
     "metadata": {},
     "output_type": "execute_result"
    }
   ],
   "source": [
    "arr1.ndim"
   ]
  },
  {
   "cell_type": "code",
   "execution_count": 16,
   "metadata": {},
   "outputs": [
    {
     "data": {
      "text/plain": [
       "array([ 0.,  0.,  0.,  0.,  0.,  0.,  0.,  0.,  0.,  0.])"
      ]
     },
     "execution_count": 16,
     "metadata": {},
     "output_type": "execute_result"
    }
   ],
   "source": [
    "np.zeros(10)"
   ]
  },
  {
   "cell_type": "code",
   "execution_count": 18,
   "metadata": {},
   "outputs": [
    {
     "data": {
      "text/plain": [
       "array([ 1.,  1.,  1.,  1.,  1.,  1.,  1.,  1.,  1.,  1.])"
      ]
     },
     "execution_count": 18,
     "metadata": {},
     "output_type": "execute_result"
    }
   ],
   "source": [
    "np.ones(10)"
   ]
  },
  {
   "cell_type": "code",
   "execution_count": 19,
   "metadata": {},
   "outputs": [
    {
     "data": {
      "text/plain": [
       "array([[[  1.72723371e-077,   4.33093657e-311,   8.89318163e-323,\n",
       "           0.00000000e+000],\n",
       "        [  2.12199579e-314,   5.02034658e+175,   3.54035076e+020,\n",
       "           4.02459477e-057],\n",
       "        [  1.07949414e-061,   1.82577162e+011,   1.47763641e+248,\n",
       "           1.16096346e-028]],\n",
       "\n",
       "       [[  7.69165785e+218,   1.35617292e+248,   3.13211372e-076,\n",
       "           5.17054901e-062],\n",
       "        [  2.73536200e+030,   8.16144121e-033,   4.27593799e-096,\n",
       "           6.32299154e+233],\n",
       "        [  6.48224638e+170,   5.22411352e+257,   5.74020278e+180,\n",
       "           8.37174974e-144]]])"
      ]
     },
     "execution_count": 19,
     "metadata": {},
     "output_type": "execute_result"
    }
   ],
   "source": [
    "np.empty((2, 3, 4))"
   ]
  },
  {
   "cell_type": "code",
   "execution_count": 20,
   "metadata": {},
   "outputs": [
    {
     "data": {
      "text/plain": [
       "array([ 0,  1,  2,  3,  4,  5,  6,  7,  8,  9, 10, 11, 12, 13, 14])"
      ]
     },
     "execution_count": 20,
     "metadata": {},
     "output_type": "execute_result"
    }
   ],
   "source": [
    "np.arange(15)"
   ]
  },
  {
   "cell_type": "code",
   "execution_count": 26,
   "metadata": {},
   "outputs": [
    {
     "data": {
      "text/plain": [
       "array([[ 1.,  0.,  0.],\n",
       "       [ 0.,  1.,  0.],\n",
       "       [ 0.,  0.,  1.]])"
      ]
     },
     "execution_count": 26,
     "metadata": {},
     "output_type": "execute_result"
    }
   ],
   "source": [
    "np.identity(3)\n"
   ]
  },
  {
   "cell_type": "code",
   "execution_count": 27,
   "metadata": {},
   "outputs": [
    {
     "data": {
      "text/plain": [
       "array([[ 1.,  0.,  0.],\n",
       "       [ 0.,  1.,  0.],\n",
       "       [ 0.,  0.,  1.]])"
      ]
     },
     "execution_count": 27,
     "metadata": {},
     "output_type": "execute_result"
    }
   ],
   "source": [
    "np.eye(3)"
   ]
  },
  {
   "cell_type": "code",
   "execution_count": 31,
   "metadata": {},
   "outputs": [
    {
     "ename": "NameError",
     "evalue": "name 'b' is not defined",
     "output_type": "error",
     "traceback": [
      "\u001b[0;31m---------------------------------------------------------------------------\u001b[0m",
      "\u001b[0;31mNameError\u001b[0m                                 Traceback (most recent call last)",
      "\u001b[0;32m<ipython-input-31-1020bc56932b>\u001b[0m in \u001b[0;36m<module>\u001b[0;34m()\u001b[0m\n\u001b[0;32m----> 1\u001b[0;31m \u001b[0mnp\u001b[0m\u001b[0;34m.\u001b[0m\u001b[0mones_like\u001b[0m\u001b[0;34m(\u001b[0m\u001b[0mb\u001b[0m\u001b[0;34m,\u001b[0m \u001b[0mdtype\u001b[0m\u001b[0;34m=\u001b[0m\u001b[0;34m\"int64\"\u001b[0m\u001b[0;34m)\u001b[0m\u001b[0;34m\u001b[0m\u001b[0m\n\u001b[0m",
      "\u001b[0;31mNameError\u001b[0m: name 'b' is not defined"
     ]
    }
   ],
   "source": [
    "np.ones_like(b, dtype=\"int64\")"
   ]
  },
  {
   "cell_type": "code",
   "execution_count": 32,
   "metadata": {
    "collapsed": true
   },
   "outputs": [],
   "source": [
    "arr1 = np.array([1,2,3], dtype=np.float64)"
   ]
  },
  {
   "cell_type": "code",
   "execution_count": 34,
   "metadata": {},
   "outputs": [
    {
     "data": {
      "text/plain": [
       "dtype('float64')"
      ]
     },
     "execution_count": 34,
     "metadata": {},
     "output_type": "execute_result"
    }
   ],
   "source": [
    "arr1.dtype"
   ]
  },
  {
   "cell_type": "code",
   "execution_count": 35,
   "metadata": {
    "collapsed": true
   },
   "outputs": [],
   "source": [
    "numeric_string = np.array(['1.25', '-9.6', '42'], dtype=np.string_)"
   ]
  },
  {
   "cell_type": "code",
   "execution_count": 36,
   "metadata": {},
   "outputs": [
    {
     "data": {
      "text/plain": [
       "array([b'1.25', b'-9.6', b'42'], \n",
       "      dtype='|S4')"
      ]
     },
     "execution_count": 36,
     "metadata": {},
     "output_type": "execute_result"
    }
   ],
   "source": [
    "numeric_string"
   ]
  },
  {
   "cell_type": "code",
   "execution_count": 38,
   "metadata": {},
   "outputs": [
    {
     "data": {
      "text/plain": [
       "array([  1.25,  -9.6 ,  42.  ])"
      ]
     },
     "execution_count": 38,
     "metadata": {},
     "output_type": "execute_result"
    }
   ],
   "source": [
    "numeric_string.astype(float)"
   ]
  },
  {
   "cell_type": "code",
   "execution_count": 43,
   "metadata": {
    "collapsed": true
   },
   "outputs": [],
   "source": [
    "arr = np.array([[1., 2., 3.], [4., 5., 6.]])"
   ]
  },
  {
   "cell_type": "code",
   "execution_count": 44,
   "metadata": {},
   "outputs": [
    {
     "data": {
      "text/plain": [
       "array([[ 1.,  2.,  3.],\n",
       "       [ 4.,  5.,  6.]])"
      ]
     },
     "execution_count": 44,
     "metadata": {},
     "output_type": "execute_result"
    }
   ],
   "source": [
    "arr"
   ]
  },
  {
   "cell_type": "code",
   "execution_count": 45,
   "metadata": {},
   "outputs": [
    {
     "data": {
      "text/plain": [
       "(2, 3)"
      ]
     },
     "execution_count": 45,
     "metadata": {},
     "output_type": "execute_result"
    }
   ],
   "source": [
    "arr.shape"
   ]
  },
  {
   "cell_type": "code",
   "execution_count": 47,
   "metadata": {},
   "outputs": [
    {
     "data": {
      "text/plain": [
       "array([[ 1.,  2.,  3.],\n",
       "       [ 4.,  5.,  6.]])"
      ]
     },
     "execution_count": 47,
     "metadata": {},
     "output_type": "execute_result"
    }
   ],
   "source": [
    "arr"
   ]
  },
  {
   "cell_type": "code",
   "execution_count": 48,
   "metadata": {},
   "outputs": [
    {
     "data": {
      "text/plain": [
       "array([[  1.,   4.,   9.],\n",
       "       [ 16.,  25.,  36.]])"
      ]
     },
     "execution_count": 48,
     "metadata": {},
     "output_type": "execute_result"
    }
   ],
   "source": [
    "arr * arr"
   ]
  },
  {
   "cell_type": "code",
   "execution_count": 49,
   "metadata": {},
   "outputs": [
    {
     "data": {
      "text/plain": [
       "array([[ 0.,  0.,  0.],\n",
       "       [ 0.,  0.,  0.]])"
      ]
     },
     "execution_count": 49,
     "metadata": {},
     "output_type": "execute_result"
    }
   ],
   "source": [
    "arr - arr"
   ]
  },
  {
   "cell_type": "code",
   "execution_count": 50,
   "metadata": {},
   "outputs": [
    {
     "data": {
      "text/plain": [
       "array([[ 1.        ,  0.5       ,  0.33333333],\n",
       "       [ 0.25      ,  0.2       ,  0.16666667]])"
      ]
     },
     "execution_count": 50,
     "metadata": {},
     "output_type": "execute_result"
    }
   ],
   "source": [
    "1/ arr "
   ]
  },
  {
   "cell_type": "code",
   "execution_count": 51,
   "metadata": {},
   "outputs": [
    {
     "data": {
      "text/plain": [
       "array([[ 1.        ,  1.41421356,  1.73205081],\n",
       "       [ 2.        ,  2.23606798,  2.44948974]])"
      ]
     },
     "execution_count": 51,
     "metadata": {},
     "output_type": "execute_result"
    }
   ],
   "source": [
    "arr ** 0.5"
   ]
  },
  {
   "cell_type": "code",
   "execution_count": 52,
   "metadata": {
    "collapsed": true
   },
   "outputs": [],
   "source": [
    "arr = np.arange(10)"
   ]
  },
  {
   "cell_type": "code",
   "execution_count": 53,
   "metadata": {},
   "outputs": [
    {
     "data": {
      "text/plain": [
       "array([0, 1, 2, 3, 4, 5, 6, 7, 8, 9])"
      ]
     },
     "execution_count": 53,
     "metadata": {},
     "output_type": "execute_result"
    }
   ],
   "source": [
    "arr"
   ]
  },
  {
   "cell_type": "code",
   "execution_count": 54,
   "metadata": {},
   "outputs": [
    {
     "data": {
      "text/plain": [
       "5"
      ]
     },
     "execution_count": 54,
     "metadata": {},
     "output_type": "execute_result"
    }
   ],
   "source": [
    "arr[5]"
   ]
  },
  {
   "cell_type": "code",
   "execution_count": 55,
   "metadata": {},
   "outputs": [
    {
     "data": {
      "text/plain": [
       "array([5, 6, 7])"
      ]
     },
     "execution_count": 55,
     "metadata": {},
     "output_type": "execute_result"
    }
   ],
   "source": [
    "arr[5:8]"
   ]
  },
  {
   "cell_type": "code",
   "execution_count": 56,
   "metadata": {
    "collapsed": true
   },
   "outputs": [],
   "source": [
    "arr_slice = arr[5:8]"
   ]
  },
  {
   "cell_type": "code",
   "execution_count": 57,
   "metadata": {},
   "outputs": [
    {
     "data": {
      "text/plain": [
       "array([5, 6, 7])"
      ]
     },
     "execution_count": 57,
     "metadata": {},
     "output_type": "execute_result"
    }
   ],
   "source": [
    "arr_slice"
   ]
  },
  {
   "cell_type": "code",
   "execution_count": 61,
   "metadata": {
    "collapsed": true
   },
   "outputs": [],
   "source": [
    "arr2d = np.array([[1,2,3], [4,5,6], [7,8,9]])"
   ]
  },
  {
   "cell_type": "code",
   "execution_count": 67,
   "metadata": {},
   "outputs": [
    {
     "data": {
      "text/plain": [
       "3"
      ]
     },
     "execution_count": 67,
     "metadata": {},
     "output_type": "execute_result"
    }
   ],
   "source": [
    "arr2d[0][2]"
   ]
  },
  {
   "cell_type": "code",
   "execution_count": 68,
   "metadata": {},
   "outputs": [
    {
     "data": {
      "text/plain": [
       "3"
      ]
     },
     "execution_count": 68,
     "metadata": {},
     "output_type": "execute_result"
    }
   ],
   "source": [
    "arr2d[0, 2]"
   ]
  },
  {
   "cell_type": "code",
   "execution_count": 70,
   "metadata": {
    "collapsed": true
   },
   "outputs": [],
   "source": [
    "arr3d = np.array([[[1,2,3], [4,5,6]], [[7,8,9], [10, 11, 12]]])"
   ]
  },
  {
   "cell_type": "code",
   "execution_count": 71,
   "metadata": {},
   "outputs": [
    {
     "data": {
      "text/plain": [
       "array([[[ 1,  2,  3],\n",
       "        [ 4,  5,  6]],\n",
       "\n",
       "       [[ 7,  8,  9],\n",
       "        [10, 11, 12]]])"
      ]
     },
     "execution_count": 71,
     "metadata": {},
     "output_type": "execute_result"
    }
   ],
   "source": [
    "arr3d"
   ]
  },
  {
   "cell_type": "code",
   "execution_count": 77,
   "metadata": {
    "collapsed": true
   },
   "outputs": [],
   "source": [
    "old_values = arr3d[0].copy()"
   ]
  },
  {
   "cell_type": "code",
   "execution_count": 78,
   "metadata": {},
   "outputs": [
    {
     "data": {
      "text/plain": [
       "array([[1, 2, 3],\n",
       "       [4, 5, 6]])"
      ]
     },
     "execution_count": 78,
     "metadata": {},
     "output_type": "execute_result"
    }
   ],
   "source": [
    "old_values\n"
   ]
  },
  {
   "cell_type": "code",
   "execution_count": 79,
   "metadata": {
    "collapsed": true
   },
   "outputs": [],
   "source": [
    "arr3d[0]=42"
   ]
  },
  {
   "cell_type": "code",
   "execution_count": 80,
   "metadata": {},
   "outputs": [
    {
     "data": {
      "text/plain": [
       "array([[[42, 42, 42],\n",
       "        [42, 42, 42]],\n",
       "\n",
       "       [[ 7,  8,  9],\n",
       "        [10, 11, 12]]])"
      ]
     },
     "execution_count": 80,
     "metadata": {},
     "output_type": "execute_result"
    }
   ],
   "source": [
    "arr3d"
   ]
  },
  {
   "cell_type": "code",
   "execution_count": 81,
   "metadata": {
    "collapsed": true
   },
   "outputs": [],
   "source": [
    "arr3d[0]= old_values"
   ]
  },
  {
   "cell_type": "code",
   "execution_count": 82,
   "metadata": {},
   "outputs": [
    {
     "data": {
      "text/plain": [
       "array([[[ 1,  2,  3],\n",
       "        [ 4,  5,  6]],\n",
       "\n",
       "       [[ 7,  8,  9],\n",
       "        [10, 11, 12]]])"
      ]
     },
     "execution_count": 82,
     "metadata": {},
     "output_type": "execute_result"
    }
   ],
   "source": [
    "arr3d"
   ]
  },
  {
   "cell_type": "code",
   "execution_count": 83,
   "metadata": {},
   "outputs": [
    {
     "data": {
      "text/plain": [
       "array([[1, 2, 3],\n",
       "       [4, 5, 6],\n",
       "       [7, 8, 9]])"
      ]
     },
     "execution_count": 83,
     "metadata": {},
     "output_type": "execute_result"
    }
   ],
   "source": [
    "arr2d"
   ]
  },
  {
   "cell_type": "code",
   "execution_count": 84,
   "metadata": {},
   "outputs": [
    {
     "data": {
      "text/plain": [
       "array([[1, 2, 3],\n",
       "       [4, 5, 6]])"
      ]
     },
     "execution_count": 84,
     "metadata": {},
     "output_type": "execute_result"
    }
   ],
   "source": [
    "arr2d[:2]"
   ]
  },
  {
   "cell_type": "code",
   "execution_count": 85,
   "metadata": {},
   "outputs": [
    {
     "data": {
      "text/plain": [
       "array([[2, 3],\n",
       "       [5, 6]])"
      ]
     },
     "execution_count": 85,
     "metadata": {},
     "output_type": "execute_result"
    }
   ],
   "source": [
    "arr2d[:2, 1:]"
   ]
  },
  {
   "cell_type": "code",
   "execution_count": 86,
   "metadata": {},
   "outputs": [
    {
     "data": {
      "text/plain": [
       "array([7])"
      ]
     },
     "execution_count": 86,
     "metadata": {},
     "output_type": "execute_result"
    }
   ],
   "source": [
    "arr2d[2, :1]"
   ]
  },
  {
   "cell_type": "code",
   "execution_count": 87,
   "metadata": {},
   "outputs": [
    {
     "data": {
      "text/plain": [
       "array([[1, 2, 3],\n",
       "       [4, 5, 6],\n",
       "       [7, 8, 9]])"
      ]
     },
     "execution_count": 87,
     "metadata": {},
     "output_type": "execute_result"
    }
   ],
   "source": [
    "arr2d"
   ]
  },
  {
   "cell_type": "code",
   "execution_count": 88,
   "metadata": {},
   "outputs": [
    {
     "data": {
      "text/plain": [
       "array([[1],\n",
       "       [4],\n",
       "       [7]])"
      ]
     },
     "execution_count": 88,
     "metadata": {},
     "output_type": "execute_result"
    }
   ],
   "source": [
    "arr2d[:, :1]"
   ]
  },
  {
   "cell_type": "code",
   "execution_count": 89,
   "metadata": {
    "collapsed": true
   },
   "outputs": [],
   "source": [
    "arr2d[:2, 1:]=0"
   ]
  },
  {
   "cell_type": "code",
   "execution_count": 90,
   "metadata": {},
   "outputs": [
    {
     "data": {
      "text/plain": [
       "array([[1, 0, 0],\n",
       "       [4, 0, 0],\n",
       "       [7, 8, 9]])"
      ]
     },
     "execution_count": 90,
     "metadata": {},
     "output_type": "execute_result"
    }
   ],
   "source": [
    "arr2d"
   ]
  },
  {
   "cell_type": "markdown",
   "metadata": {
    "collapsed": true
   },
   "source": [
    " # Boolean Indexing\n",
    " "
   ]
  },
  {
   "cell_type": "code",
   "execution_count": 2,
   "metadata": {
    "collapsed": true
   },
   "outputs": [],
   "source": [
    "import numpy as np\n",
    "names = np.array(['Bob', 'Joe', 'Will', 'Bob', 'Will', 'Joe', 'Joe'])"
   ]
  },
  {
   "cell_type": "code",
   "execution_count": 3,
   "metadata": {},
   "outputs": [
    {
     "data": {
      "text/plain": [
       "array(['Bob', 'Joe', 'Will', 'Bob', 'Will', 'Joe', 'Joe'], \n",
       "      dtype='<U4')"
      ]
     },
     "execution_count": 3,
     "metadata": {},
     "output_type": "execute_result"
    }
   ],
   "source": [
    "names"
   ]
  },
  {
   "cell_type": "code",
   "execution_count": 4,
   "metadata": {
    "collapsed": true
   },
   "outputs": [],
   "source": [
    "data = np.random.randn(7, 4)"
   ]
  },
  {
   "cell_type": "code",
   "execution_count": 5,
   "metadata": {},
   "outputs": [
    {
     "data": {
      "text/plain": [
       "array([[-0.51932898, -0.55908712, -0.7367279 ,  1.12065476],\n",
       "       [ 0.12310383, -1.1245644 ,  1.28843555, -0.43444218],\n",
       "       [ 0.79820948, -1.90111284,  0.41963188,  0.08604707],\n",
       "       [ 0.27938295, -1.45768425,  0.21959629,  0.42888843],\n",
       "       [-2.15568868,  0.50424039, -0.78309273,  0.76862947],\n",
       "       [-1.59545023,  0.20188842,  0.87141507,  0.65765286],\n",
       "       [-0.65393333,  0.67264285,  0.88879913,  0.25227288]])"
      ]
     },
     "execution_count": 5,
     "metadata": {},
     "output_type": "execute_result"
    }
   ],
   "source": [
    "data"
   ]
  },
  {
   "cell_type": "code",
   "execution_count": 9,
   "metadata": {},
   "outputs": [
    {
     "data": {
      "text/plain": [
       "array([[-0.55908712, -0.7367279 ,  1.12065476],\n",
       "       [-1.1245644 ,  1.28843555, -0.43444218]])"
      ]
     },
     "execution_count": 9,
     "metadata": {},
     "output_type": "execute_result"
    }
   ],
   "source": [
    "data[:2, 1:]"
   ]
  },
  {
   "cell_type": "code",
   "execution_count": 10,
   "metadata": {},
   "outputs": [
    {
     "data": {
      "text/plain": [
       "array([ 0.79820948, -1.90111284,  0.41963188,  0.08604707])"
      ]
     },
     "execution_count": 10,
     "metadata": {},
     "output_type": "execute_result"
    }
   ],
   "source": [
    "data[2]"
   ]
  },
  {
   "cell_type": "code",
   "execution_count": 11,
   "metadata": {},
   "outputs": [
    {
     "data": {
      "text/plain": [
       "array([ True, False, False,  True, False, False, False], dtype=bool)"
      ]
     },
     "execution_count": 11,
     "metadata": {},
     "output_type": "execute_result"
    }
   ],
   "source": [
    "names==\"Bob\""
   ]
  },
  {
   "cell_type": "code",
   "execution_count": 14,
   "metadata": {},
   "outputs": [
    {
     "data": {
      "text/plain": [
       "array([[-0.51932898, -0.55908712, -0.7367279 ,  1.12065476],\n",
       "       [ 0.27938295, -1.45768425,  0.21959629,  0.42888843]])"
      ]
     },
     "execution_count": 14,
     "metadata": {},
     "output_type": "execute_result"
    }
   ],
   "source": [
    "data[names==\"Bob\"]"
   ]
  },
  {
   "cell_type": "code",
   "execution_count": 13,
   "metadata": {},
   "outputs": [
    {
     "data": {
      "text/plain": [
       "array([-0.7367279 ,  0.21959629])"
      ]
     },
     "execution_count": 13,
     "metadata": {},
     "output_type": "execute_result"
    }
   ],
   "source": [
    "data[names==\"Bob\", 2]"
   ]
  },
  {
   "cell_type": "code",
   "execution_count": 15,
   "metadata": {},
   "outputs": [
    {
     "data": {
      "text/plain": [
       "array([False,  True,  True, False,  True,  True,  True], dtype=bool)"
      ]
     },
     "execution_count": 15,
     "metadata": {},
     "output_type": "execute_result"
    }
   ],
   "source": [
    "names != \"Bob\"\n"
   ]
  },
  {
   "cell_type": "code",
   "execution_count": 20,
   "metadata": {},
   "outputs": [
    {
     "ename": "ValueError",
     "evalue": "The truth value of an array with more than one element is ambiguous. Use a.any() or a.all()",
     "output_type": "error",
     "traceback": [
      "\u001b[0;31m---------------------------------------------------------------------------\u001b[0m",
      "\u001b[0;31mValueError\u001b[0m                                Traceback (most recent call last)",
      "\u001b[0;32m<ipython-input-20-e04537213f65>\u001b[0m in \u001b[0;36m<module>\u001b[0;34m()\u001b[0m\n\u001b[0;32m----> 1\u001b[0;31m \u001b[0mdata\u001b[0m\u001b[0;34m[\u001b[0m\u001b[0;32mnot\u001b[0m \u001b[0mnames\u001b[0m\u001b[0;34m!=\u001b[0m\u001b[0;34m\"Bob\"\u001b[0m\u001b[0;34m]\u001b[0m\u001b[0;34m\u001b[0m\u001b[0m\n\u001b[0m",
      "\u001b[0;31mValueError\u001b[0m: The truth value of an array with more than one element is ambiguous. Use a.any() or a.all()"
     ]
    }
   ],
   "source": [
    "data[not names!=\"Bob\"]"
   ]
  },
  {
   "cell_type": "code",
   "execution_count": 31,
   "metadata": {
    "collapsed": true
   },
   "outputs": [],
   "source": [
    "mask = (names ==\"Bob\") | (names==\"Will\")"
   ]
  },
  {
   "cell_type": "code",
   "execution_count": 25,
   "metadata": {},
   "outputs": [
    {
     "data": {
      "text/plain": [
       "array(['Bob', 'Joe', 'Will', 'Bob', 'Will', 'Joe', 'Joe'], \n",
       "      dtype='<U4')"
      ]
     },
     "execution_count": 25,
     "metadata": {},
     "output_type": "execute_result"
    }
   ],
   "source": [
    "names"
   ]
  },
  {
   "cell_type": "code",
   "execution_count": 28,
   "metadata": {
    "collapsed": true
   },
   "outputs": [],
   "source": [
    "mask = (names ==\"Bob\") & (names==\"Will\")"
   ]
  },
  {
   "cell_type": "code",
   "execution_count": 61,
   "metadata": {},
   "outputs": [
    {
     "data": {
      "text/plain": [
       "array([[-0.51932898, -0.55908712, -0.7367279 ,  1.12065476],\n",
       "       [ 0.12310383, -1.1245644 ,  1.28843555, -0.43444218],\n",
       "       [ 0.79820948, -1.90111284,  0.41963188,  0.08604707],\n",
       "       [ 0.27938295, -1.45768425,  0.21959629,  0.42888843],\n",
       "       [-2.15568868,  0.50424039, -0.78309273,  0.76862947],\n",
       "       [-1.59545023,  0.20188842,  0.87141507,  0.65765286],\n",
       "       [-0.65393333,  0.67264285,  0.88879913,  0.25227288]])"
      ]
     },
     "execution_count": 61,
     "metadata": {},
     "output_type": "execute_result"
    }
   ],
   "source": [
    "data"
   ]
  },
  {
   "cell_type": "code",
   "execution_count": 57,
   "metadata": {},
   "outputs": [
    {
     "data": {
      "text/plain": [
       "array([-0.51932898, -0.55908712, -0.7367279 , -1.1245644 , -0.43444218,\n",
       "       -1.90111284, -1.45768425, -2.15568868, -0.78309273, -1.59545023,\n",
       "       -0.65393333])"
      ]
     },
     "execution_count": 57,
     "metadata": {},
     "output_type": "execute_result"
    }
   ],
   "source": [
    "data[mask]"
   ]
  },
  {
   "cell_type": "code",
   "execution_count": 60,
   "metadata": {},
   "outputs": [
    {
     "data": {
      "text/plain": [
       "array([[ True,  True,  True, False],\n",
       "       [False,  True, False,  True],\n",
       "       [False,  True, False, False],\n",
       "       [False,  True, False, False],\n",
       "       [ True, False,  True, False],\n",
       "       [ True, False, False, False],\n",
       "       [ True, False, False, False]], dtype=bool)"
      ]
     },
     "execution_count": 60,
     "metadata": {},
     "output_type": "execute_result"
    }
   ],
   "source": [
    "mask"
   ]
  },
  {
   "cell_type": "code",
   "execution_count": 59,
   "metadata": {},
   "outputs": [
    {
     "data": {
      "text/plain": [
       "array([-0.51932898, -0.55908712, -0.7367279 , -1.1245644 , -0.43444218,\n",
       "       -1.90111284, -1.45768425, -2.15568868, -0.78309273, -1.59545023,\n",
       "       -0.65393333])"
      ]
     },
     "execution_count": 59,
     "metadata": {},
     "output_type": "execute_result"
    }
   ],
   "source": [
    "data[mask]"
   ]
  },
  {
   "cell_type": "code",
   "execution_count": 65,
   "metadata": {
    "collapsed": true
   },
   "outputs": [],
   "source": [
    "data[data<0]=0"
   ]
  },
  {
   "cell_type": "code",
   "execution_count": 67,
   "metadata": {},
   "outputs": [
    {
     "data": {
      "text/plain": [
       "array([[ 0.        ,  0.        ,  0.        ,  1.12065476],\n",
       "       [ 0.12310383,  0.        ,  1.28843555,  0.        ],\n",
       "       [ 0.79820948,  0.        ,  0.41963188,  0.08604707],\n",
       "       [ 0.27938295,  0.        ,  0.21959629,  0.42888843],\n",
       "       [ 0.        ,  0.50424039,  0.        ,  0.76862947],\n",
       "       [ 0.        ,  0.20188842,  0.87141507,  0.65765286],\n",
       "       [ 0.        ,  0.67264285,  0.88879913,  0.25227288]])"
      ]
     },
     "execution_count": 67,
     "metadata": {},
     "output_type": "execute_result"
    }
   ],
   "source": [
    "data"
   ]
  },
  {
   "cell_type": "code",
   "execution_count": 71,
   "metadata": {},
   "outputs": [
    {
     "data": {
      "text/plain": [
       "array([[ True,  True,  True, False],\n",
       "       [False,  True, False,  True],\n",
       "       [False,  True, False, False],\n",
       "       [False,  True, False, False],\n",
       "       [ True, False,  True, False],\n",
       "       [ True, False, False, False],\n",
       "       [ True, False, False, False]], dtype=bool)"
      ]
     },
     "execution_count": 71,
     "metadata": {},
     "output_type": "execute_result"
    }
   ],
   "source": [
    "mask"
   ]
  },
  {
   "cell_type": "code",
   "execution_count": 72,
   "metadata": {},
   "outputs": [
    {
     "data": {
      "text/plain": [
       "array([ 0.,  0.,  0.,  0.,  0.,  0.,  0.,  0.,  0.,  0.,  0.])"
      ]
     },
     "execution_count": 72,
     "metadata": {},
     "output_type": "execute_result"
    }
   ],
   "source": [
    "data[mask]"
   ]
  },
  {
   "cell_type": "code",
   "execution_count": 49,
   "metadata": {},
   "outputs": [
    {
     "data": {
      "text/plain": [
       "array([-0.51932898, -0.55908712, -0.7367279 , -1.1245644 , -0.43444218,\n",
       "       -1.90111284, -1.45768425, -2.15568868, -0.78309273, -1.59545023,\n",
       "       -0.65393333])"
      ]
     },
     "execution_count": 49,
     "metadata": {},
     "output_type": "execute_result"
    }
   ],
   "source": []
  },
  {
   "cell_type": "markdown",
   "metadata": {},
   "source": [
    "# Fancy Indexing"
   ]
  },
  {
   "cell_type": "code",
   "execution_count": 74,
   "metadata": {
    "collapsed": true
   },
   "outputs": [],
   "source": [
    "arr = np.empty((8, 4))"
   ]
  },
  {
   "cell_type": "code",
   "execution_count": 75,
   "metadata": {},
   "outputs": [
    {
     "data": {
      "text/plain": [
       "array([[ -2.00000000e+000,   1.29074085e-231,   1.67982320e-322,\n",
       "          0.00000000e+000],\n",
       "       [  0.00000000e+000,   0.00000000e+000,   0.00000000e+000,\n",
       "          0.00000000e+000],\n",
       "       [  0.00000000e+000,   0.00000000e+000,   0.00000000e+000,\n",
       "          0.00000000e+000],\n",
       "       [  0.00000000e+000,   0.00000000e+000,   0.00000000e+000,\n",
       "          1.14703887e-071],\n",
       "       [ -2.00000000e+000,  -2.00000000e+000,   1.28457068e-322,\n",
       "          0.00000000e+000],\n",
       "       [  0.00000000e+000,   0.00000000e+000,   0.00000000e+000,\n",
       "          0.00000000e+000],\n",
       "       [  0.00000000e+000,   0.00000000e+000,   0.00000000e+000,\n",
       "          0.00000000e+000],\n",
       "       [  0.00000000e+000,   0.00000000e+000,   0.00000000e+000,\n",
       "         -2.00000000e+000]])"
      ]
     },
     "execution_count": 75,
     "metadata": {},
     "output_type": "execute_result"
    }
   ],
   "source": [
    "arr"
   ]
  },
  {
   "cell_type": "code",
   "execution_count": 80,
   "metadata": {
    "collapsed": true
   },
   "outputs": [],
   "source": [
    "for i in range(8):\n",
    "    arr[i] = i "
   ]
  },
  {
   "cell_type": "code",
   "execution_count": 81,
   "metadata": {},
   "outputs": [
    {
     "data": {
      "text/plain": [
       "array([[ 0.,  0.,  0.,  0.],\n",
       "       [ 1.,  1.,  1.,  1.],\n",
       "       [ 2.,  2.,  2.,  2.],\n",
       "       [ 3.,  3.,  3.,  3.],\n",
       "       [ 4.,  4.,  4.,  4.],\n",
       "       [ 5.,  5.,  5.,  5.],\n",
       "       [ 6.,  6.,  6.,  6.],\n",
       "       [ 7.,  7.,  7.,  7.]])"
      ]
     },
     "execution_count": 81,
     "metadata": {},
     "output_type": "execute_result"
    }
   ],
   "source": [
    "arr"
   ]
  },
  {
   "cell_type": "code",
   "execution_count": 82,
   "metadata": {},
   "outputs": [
    {
     "data": {
      "text/plain": [
       "array([[ 4.,  4.,  4.,  4.],\n",
       "       [ 3.,  3.,  3.,  3.],\n",
       "       [ 2.,  2.,  2.,  2.],\n",
       "       [ 1.,  1.,  1.,  1.]])"
      ]
     },
     "execution_count": 82,
     "metadata": {},
     "output_type": "execute_result"
    }
   ],
   "source": [
    "arr[[4, 3, 2, 1]]"
   ]
  },
  {
   "cell_type": "code",
   "execution_count": 84,
   "metadata": {
    "collapsed": true
   },
   "outputs": [],
   "source": [
    "arr = np.arange(32).reshape((8, 4))"
   ]
  },
  {
   "cell_type": "code",
   "execution_count": 85,
   "metadata": {},
   "outputs": [
    {
     "data": {
      "text/plain": [
       "array([[ 0,  1,  2,  3],\n",
       "       [ 4,  5,  6,  7],\n",
       "       [ 8,  9, 10, 11],\n",
       "       [12, 13, 14, 15],\n",
       "       [16, 17, 18, 19],\n",
       "       [20, 21, 22, 23],\n",
       "       [24, 25, 26, 27],\n",
       "       [28, 29, 30, 31]])"
      ]
     },
     "execution_count": 85,
     "metadata": {},
     "output_type": "execute_result"
    }
   ],
   "source": [
    "arr"
   ]
  },
  {
   "cell_type": "code",
   "execution_count": 89,
   "metadata": {},
   "outputs": [
    {
     "data": {
      "text/plain": [
       "array([ 4, 23, 29, 10])"
      ]
     },
     "execution_count": 89,
     "metadata": {},
     "output_type": "execute_result"
    }
   ],
   "source": [
    "arr[[1, 5, 7, 2], [0, 3, 1, 2]]"
   ]
  },
  {
   "cell_type": "code",
   "execution_count": 92,
   "metadata": {},
   "outputs": [
    {
     "data": {
      "text/plain": [
       "array([[ 4,  7,  5,  6],\n",
       "       [20, 23, 21, 22],\n",
       "       [28, 31, 29, 30],\n",
       "       [ 8, 11,  9, 10]])"
      ]
     },
     "execution_count": 92,
     "metadata": {},
     "output_type": "execute_result"
    }
   ],
   "source": [
    "arr[[1, 5, 7, 2]][:, [0, 3, 1, 2]]"
   ]
  },
  {
   "cell_type": "code",
   "execution_count": 93,
   "metadata": {},
   "outputs": [
    {
     "data": {
      "text/plain": [
       "array([[ 0,  1,  2,  3],\n",
       "       [ 4,  5,  6,  7],\n",
       "       [ 8,  9, 10, 11],\n",
       "       [12, 13, 14, 15],\n",
       "       [16, 17, 18, 19],\n",
       "       [20, 21, 22, 23],\n",
       "       [24, 25, 26, 27],\n",
       "       [28, 29, 30, 31]])"
      ]
     },
     "execution_count": 93,
     "metadata": {},
     "output_type": "execute_result"
    }
   ],
   "source": [
    "arr"
   ]
  },
  {
   "cell_type": "code",
   "execution_count": 95,
   "metadata": {},
   "outputs": [
    {
     "data": {
      "text/plain": [
       "array([[ 4,  7,  5,  6],\n",
       "       [20, 23, 21, 22],\n",
       "       [28, 31, 29, 30],\n",
       "       [ 8, 11,  9, 10]])"
      ]
     },
     "execution_count": 95,
     "metadata": {},
     "output_type": "execute_result"
    }
   ],
   "source": [
    "arr[np.ix_([1, 5, 7, 2], [0, 3, 1, 2])]"
   ]
  },
  {
   "cell_type": "code",
   "execution_count": 2,
   "metadata": {
    "collapsed": true
   },
   "outputs": [],
   "source": [
    "import numpy as np\n",
    "arr = np.arange(15).reshape((3, 5))"
   ]
  },
  {
   "cell_type": "code",
   "execution_count": 3,
   "metadata": {},
   "outputs": [
    {
     "data": {
      "text/plain": [
       "array([[ 0,  1,  2,  3,  4],\n",
       "       [ 5,  6,  7,  8,  9],\n",
       "       [10, 11, 12, 13, 14]])"
      ]
     },
     "execution_count": 3,
     "metadata": {},
     "output_type": "execute_result"
    }
   ],
   "source": [
    "arr"
   ]
  },
  {
   "cell_type": "code",
   "execution_count": 4,
   "metadata": {},
   "outputs": [
    {
     "data": {
      "text/plain": [
       "array([[ 0,  5, 10],\n",
       "       [ 1,  6, 11],\n",
       "       [ 2,  7, 12],\n",
       "       [ 3,  8, 13],\n",
       "       [ 4,  9, 14]])"
      ]
     },
     "execution_count": 4,
     "metadata": {},
     "output_type": "execute_result"
    }
   ],
   "source": [
    "arr.T"
   ]
  },
  {
   "cell_type": "code",
   "execution_count": 5,
   "metadata": {
    "collapsed": true
   },
   "outputs": [],
   "source": [
    "arr = np.random.randn(6, 3)"
   ]
  },
  {
   "cell_type": "code",
   "execution_count": 6,
   "metadata": {},
   "outputs": [
    {
     "data": {
      "text/plain": [
       "array([[ 0.81352804,  1.19769512,  0.97743204],\n",
       "       [-0.67722094, -0.70823364,  0.01639496],\n",
       "       [ 0.69386269, -0.11773116, -2.32321078],\n",
       "       [-0.28311671,  0.92788276,  0.38801578],\n",
       "       [-0.44461776, -0.03407876, -0.69677307],\n",
       "       [ 0.05602094,  1.45907691,  0.13876922]])"
      ]
     },
     "execution_count": 6,
     "metadata": {},
     "output_type": "execute_result"
    }
   ],
   "source": [
    "arr"
   ]
  },
  {
   "cell_type": "code",
   "execution_count": 7,
   "metadata": {},
   "outputs": [
    {
     "data": {
      "text/plain": [
       "array([[ 1.88287987,  1.20649171, -0.620206  ],\n",
       "       [ 1.20649171,  4.94096233,  2.0188217 ],\n",
       "       [-0.620206  ,  2.0188217 ,  7.00825636]])"
      ]
     },
     "execution_count": 7,
     "metadata": {},
     "output_type": "execute_result"
    }
   ],
   "source": [
    "np.dot(arr.T, arr)"
   ]
  },
  {
   "cell_type": "code",
   "execution_count": 8,
   "metadata": {},
   "outputs": [
    {
     "data": {
      "text/plain": [
       "array([[ 0.81352804,  1.19769512,  0.97743204],\n",
       "       [-0.67722094, -0.70823364,  0.01639496],\n",
       "       [ 0.69386269, -0.11773116, -2.32321078],\n",
       "       [-0.28311671,  0.92788276,  0.38801578],\n",
       "       [-0.44461776, -0.03407876, -0.69677307],\n",
       "       [ 0.05602094,  1.45907691,  0.13876922]])"
      ]
     },
     "execution_count": 8,
     "metadata": {},
     "output_type": "execute_result"
    }
   ],
   "source": [
    "arr"
   ]
  },
  {
   "cell_type": "code",
   "execution_count": 9,
   "metadata": {},
   "outputs": [
    {
     "data": {
      "text/plain": [
       "array([[ 0.81352804, -0.67722094,  0.69386269, -0.28311671, -0.44461776,\n",
       "         0.05602094],\n",
       "       [ 1.19769512, -0.70823364, -0.11773116,  0.92788276, -0.03407876,\n",
       "         1.45907691],\n",
       "       [ 0.97743204,  0.01639496, -2.32321078,  0.38801578, -0.69677307,\n",
       "         0.13876922]])"
      ]
     },
     "execution_count": 9,
     "metadata": {},
     "output_type": "execute_result"
    }
   ],
   "source": [
    "arr.T"
   ]
  },
  {
   "cell_type": "code",
   "execution_count": 10,
   "metadata": {
    "collapsed": true
   },
   "outputs": [],
   "source": [
    "arr = np.arange(16).reshape(2, 2, 4)"
   ]
  },
  {
   "cell_type": "code",
   "execution_count": 11,
   "metadata": {},
   "outputs": [
    {
     "data": {
      "text/plain": [
       "array([[[ 0,  1,  2,  3],\n",
       "        [ 4,  5,  6,  7]],\n",
       "\n",
       "       [[ 8,  9, 10, 11],\n",
       "        [12, 13, 14, 15]]])"
      ]
     },
     "execution_count": 11,
     "metadata": {},
     "output_type": "execute_result"
    }
   ],
   "source": [
    "arr"
   ]
  },
  {
   "cell_type": "code",
   "execution_count": 12,
   "metadata": {},
   "outputs": [
    {
     "data": {
      "text/plain": [
       "array([[[ 0,  1,  2,  3],\n",
       "        [ 8,  9, 10, 11]],\n",
       "\n",
       "       [[ 4,  5,  6,  7],\n",
       "        [12, 13, 14, 15]]])"
      ]
     },
     "execution_count": 12,
     "metadata": {},
     "output_type": "execute_result"
    }
   ],
   "source": [
    "arr.transpose((1, 0, 2))"
   ]
  },
  {
   "cell_type": "code",
   "execution_count": 13,
   "metadata": {
    "collapsed": true
   },
   "outputs": [],
   "source": [
    "\n",
    "arr = np.arange(10)"
   ]
  },
  {
   "cell_type": "code",
   "execution_count": 14,
   "metadata": {},
   "outputs": [
    {
     "data": {
      "text/plain": [
       "array([ 0.        ,  1.        ,  1.41421356,  1.73205081,  2.        ,\n",
       "        2.23606798,  2.44948974,  2.64575131,  2.82842712,  3.        ])"
      ]
     },
     "execution_count": 14,
     "metadata": {},
     "output_type": "execute_result"
    }
   ],
   "source": [
    "np.sqrt(arr)"
   ]
  },
  {
   "cell_type": "code",
   "execution_count": 16,
   "metadata": {},
   "outputs": [
    {
     "data": {
      "text/plain": [
       "array([  1.00000000e+00,   2.71828183e+00,   7.38905610e+00,\n",
       "         2.00855369e+01,   5.45981500e+01,   1.48413159e+02,\n",
       "         4.03428793e+02,   1.09663316e+03,   2.98095799e+03,\n",
       "         8.10308393e+03])"
      ]
     },
     "execution_count": 16,
     "metadata": {},
     "output_type": "execute_result"
    }
   ],
   "source": [
    "np.exp(arr)"
   ]
  },
  {
   "cell_type": "code",
   "execution_count": 27,
   "metadata": {
    "collapsed": true
   },
   "outputs": [],
   "source": [
    "arr = np.random.randn(7) * 5"
   ]
  },
  {
   "cell_type": "code",
   "execution_count": 28,
   "metadata": {},
   "outputs": [
    {
     "data": {
      "text/plain": [
       "array([ 10.34057809,   1.55933743,  -2.04577143,   2.00842569,\n",
       "        -2.94459356,  -4.98194807,   4.83406877])"
      ]
     },
     "execution_count": 28,
     "metadata": {},
     "output_type": "execute_result"
    }
   ],
   "source": [
    "arr"
   ]
  },
  {
   "cell_type": "code",
   "execution_count": 29,
   "metadata": {},
   "outputs": [
    {
     "data": {
      "text/plain": [
       "(array([ 0.34057809,  0.55933743, -0.04577143,  0.00842569, -0.94459356,\n",
       "        -0.98194807,  0.83406877]),\n",
       " array([ 10.,   1.,  -2.,   2.,  -2.,  -4.,   4.]))"
      ]
     },
     "execution_count": 29,
     "metadata": {},
     "output_type": "execute_result"
    }
   ],
   "source": [
    "np.modf(arr)"
   ]
  },
  {
   "cell_type": "code",
   "execution_count": 30,
   "metadata": {
    "collapsed": true
   },
   "outputs": [],
   "source": [
    "points = np.arange(-5, 5, 0.01)"
   ]
  },
  {
   "cell_type": "code",
   "execution_count": 32,
   "metadata": {},
   "outputs": [
    {
     "data": {
      "text/plain": [
       "array([ -5.00000000e+00,  -4.99000000e+00,  -4.98000000e+00,\n",
       "        -4.97000000e+00,  -4.96000000e+00,  -4.95000000e+00,\n",
       "        -4.94000000e+00,  -4.93000000e+00,  -4.92000000e+00,\n",
       "        -4.91000000e+00,  -4.90000000e+00,  -4.89000000e+00,\n",
       "        -4.88000000e+00,  -4.87000000e+00,  -4.86000000e+00,\n",
       "        -4.85000000e+00,  -4.84000000e+00,  -4.83000000e+00,\n",
       "        -4.82000000e+00,  -4.81000000e+00,  -4.80000000e+00,\n",
       "        -4.79000000e+00,  -4.78000000e+00,  -4.77000000e+00,\n",
       "        -4.76000000e+00,  -4.75000000e+00,  -4.74000000e+00,\n",
       "        -4.73000000e+00,  -4.72000000e+00,  -4.71000000e+00,\n",
       "        -4.70000000e+00,  -4.69000000e+00,  -4.68000000e+00,\n",
       "        -4.67000000e+00,  -4.66000000e+00,  -4.65000000e+00,\n",
       "        -4.64000000e+00,  -4.63000000e+00,  -4.62000000e+00,\n",
       "        -4.61000000e+00,  -4.60000000e+00,  -4.59000000e+00,\n",
       "        -4.58000000e+00,  -4.57000000e+00,  -4.56000000e+00,\n",
       "        -4.55000000e+00,  -4.54000000e+00,  -4.53000000e+00,\n",
       "        -4.52000000e+00,  -4.51000000e+00,  -4.50000000e+00,\n",
       "        -4.49000000e+00,  -4.48000000e+00,  -4.47000000e+00,\n",
       "        -4.46000000e+00,  -4.45000000e+00,  -4.44000000e+00,\n",
       "        -4.43000000e+00,  -4.42000000e+00,  -4.41000000e+00,\n",
       "        -4.40000000e+00,  -4.39000000e+00,  -4.38000000e+00,\n",
       "        -4.37000000e+00,  -4.36000000e+00,  -4.35000000e+00,\n",
       "        -4.34000000e+00,  -4.33000000e+00,  -4.32000000e+00,\n",
       "        -4.31000000e+00,  -4.30000000e+00,  -4.29000000e+00,\n",
       "        -4.28000000e+00,  -4.27000000e+00,  -4.26000000e+00,\n",
       "        -4.25000000e+00,  -4.24000000e+00,  -4.23000000e+00,\n",
       "        -4.22000000e+00,  -4.21000000e+00,  -4.20000000e+00,\n",
       "        -4.19000000e+00,  -4.18000000e+00,  -4.17000000e+00,\n",
       "        -4.16000000e+00,  -4.15000000e+00,  -4.14000000e+00,\n",
       "        -4.13000000e+00,  -4.12000000e+00,  -4.11000000e+00,\n",
       "        -4.10000000e+00,  -4.09000000e+00,  -4.08000000e+00,\n",
       "        -4.07000000e+00,  -4.06000000e+00,  -4.05000000e+00,\n",
       "        -4.04000000e+00,  -4.03000000e+00,  -4.02000000e+00,\n",
       "        -4.01000000e+00,  -4.00000000e+00,  -3.99000000e+00,\n",
       "        -3.98000000e+00,  -3.97000000e+00,  -3.96000000e+00,\n",
       "        -3.95000000e+00,  -3.94000000e+00,  -3.93000000e+00,\n",
       "        -3.92000000e+00,  -3.91000000e+00,  -3.90000000e+00,\n",
       "        -3.89000000e+00,  -3.88000000e+00,  -3.87000000e+00,\n",
       "        -3.86000000e+00,  -3.85000000e+00,  -3.84000000e+00,\n",
       "        -3.83000000e+00,  -3.82000000e+00,  -3.81000000e+00,\n",
       "        -3.80000000e+00,  -3.79000000e+00,  -3.78000000e+00,\n",
       "        -3.77000000e+00,  -3.76000000e+00,  -3.75000000e+00,\n",
       "        -3.74000000e+00,  -3.73000000e+00,  -3.72000000e+00,\n",
       "        -3.71000000e+00,  -3.70000000e+00,  -3.69000000e+00,\n",
       "        -3.68000000e+00,  -3.67000000e+00,  -3.66000000e+00,\n",
       "        -3.65000000e+00,  -3.64000000e+00,  -3.63000000e+00,\n",
       "        -3.62000000e+00,  -3.61000000e+00,  -3.60000000e+00,\n",
       "        -3.59000000e+00,  -3.58000000e+00,  -3.57000000e+00,\n",
       "        -3.56000000e+00,  -3.55000000e+00,  -3.54000000e+00,\n",
       "        -3.53000000e+00,  -3.52000000e+00,  -3.51000000e+00,\n",
       "        -3.50000000e+00,  -3.49000000e+00,  -3.48000000e+00,\n",
       "        -3.47000000e+00,  -3.46000000e+00,  -3.45000000e+00,\n",
       "        -3.44000000e+00,  -3.43000000e+00,  -3.42000000e+00,\n",
       "        -3.41000000e+00,  -3.40000000e+00,  -3.39000000e+00,\n",
       "        -3.38000000e+00,  -3.37000000e+00,  -3.36000000e+00,\n",
       "        -3.35000000e+00,  -3.34000000e+00,  -3.33000000e+00,\n",
       "        -3.32000000e+00,  -3.31000000e+00,  -3.30000000e+00,\n",
       "        -3.29000000e+00,  -3.28000000e+00,  -3.27000000e+00,\n",
       "        -3.26000000e+00,  -3.25000000e+00,  -3.24000000e+00,\n",
       "        -3.23000000e+00,  -3.22000000e+00,  -3.21000000e+00,\n",
       "        -3.20000000e+00,  -3.19000000e+00,  -3.18000000e+00,\n",
       "        -3.17000000e+00,  -3.16000000e+00,  -3.15000000e+00,\n",
       "        -3.14000000e+00,  -3.13000000e+00,  -3.12000000e+00,\n",
       "        -3.11000000e+00,  -3.10000000e+00,  -3.09000000e+00,\n",
       "        -3.08000000e+00,  -3.07000000e+00,  -3.06000000e+00,\n",
       "        -3.05000000e+00,  -3.04000000e+00,  -3.03000000e+00,\n",
       "        -3.02000000e+00,  -3.01000000e+00,  -3.00000000e+00,\n",
       "        -2.99000000e+00,  -2.98000000e+00,  -2.97000000e+00,\n",
       "        -2.96000000e+00,  -2.95000000e+00,  -2.94000000e+00,\n",
       "        -2.93000000e+00,  -2.92000000e+00,  -2.91000000e+00,\n",
       "        -2.90000000e+00,  -2.89000000e+00,  -2.88000000e+00,\n",
       "        -2.87000000e+00,  -2.86000000e+00,  -2.85000000e+00,\n",
       "        -2.84000000e+00,  -2.83000000e+00,  -2.82000000e+00,\n",
       "        -2.81000000e+00,  -2.80000000e+00,  -2.79000000e+00,\n",
       "        -2.78000000e+00,  -2.77000000e+00,  -2.76000000e+00,\n",
       "        -2.75000000e+00,  -2.74000000e+00,  -2.73000000e+00,\n",
       "        -2.72000000e+00,  -2.71000000e+00,  -2.70000000e+00,\n",
       "        -2.69000000e+00,  -2.68000000e+00,  -2.67000000e+00,\n",
       "        -2.66000000e+00,  -2.65000000e+00,  -2.64000000e+00,\n",
       "        -2.63000000e+00,  -2.62000000e+00,  -2.61000000e+00,\n",
       "        -2.60000000e+00,  -2.59000000e+00,  -2.58000000e+00,\n",
       "        -2.57000000e+00,  -2.56000000e+00,  -2.55000000e+00,\n",
       "        -2.54000000e+00,  -2.53000000e+00,  -2.52000000e+00,\n",
       "        -2.51000000e+00,  -2.50000000e+00,  -2.49000000e+00,\n",
       "        -2.48000000e+00,  -2.47000000e+00,  -2.46000000e+00,\n",
       "        -2.45000000e+00,  -2.44000000e+00,  -2.43000000e+00,\n",
       "        -2.42000000e+00,  -2.41000000e+00,  -2.40000000e+00,\n",
       "        -2.39000000e+00,  -2.38000000e+00,  -2.37000000e+00,\n",
       "        -2.36000000e+00,  -2.35000000e+00,  -2.34000000e+00,\n",
       "        -2.33000000e+00,  -2.32000000e+00,  -2.31000000e+00,\n",
       "        -2.30000000e+00,  -2.29000000e+00,  -2.28000000e+00,\n",
       "        -2.27000000e+00,  -2.26000000e+00,  -2.25000000e+00,\n",
       "        -2.24000000e+00,  -2.23000000e+00,  -2.22000000e+00,\n",
       "        -2.21000000e+00,  -2.20000000e+00,  -2.19000000e+00,\n",
       "        -2.18000000e+00,  -2.17000000e+00,  -2.16000000e+00,\n",
       "        -2.15000000e+00,  -2.14000000e+00,  -2.13000000e+00,\n",
       "        -2.12000000e+00,  -2.11000000e+00,  -2.10000000e+00,\n",
       "        -2.09000000e+00,  -2.08000000e+00,  -2.07000000e+00,\n",
       "        -2.06000000e+00,  -2.05000000e+00,  -2.04000000e+00,\n",
       "        -2.03000000e+00,  -2.02000000e+00,  -2.01000000e+00,\n",
       "        -2.00000000e+00,  -1.99000000e+00,  -1.98000000e+00,\n",
       "        -1.97000000e+00,  -1.96000000e+00,  -1.95000000e+00,\n",
       "        -1.94000000e+00,  -1.93000000e+00,  -1.92000000e+00,\n",
       "        -1.91000000e+00,  -1.90000000e+00,  -1.89000000e+00,\n",
       "        -1.88000000e+00,  -1.87000000e+00,  -1.86000000e+00,\n",
       "        -1.85000000e+00,  -1.84000000e+00,  -1.83000000e+00,\n",
       "        -1.82000000e+00,  -1.81000000e+00,  -1.80000000e+00,\n",
       "        -1.79000000e+00,  -1.78000000e+00,  -1.77000000e+00,\n",
       "        -1.76000000e+00,  -1.75000000e+00,  -1.74000000e+00,\n",
       "        -1.73000000e+00,  -1.72000000e+00,  -1.71000000e+00,\n",
       "        -1.70000000e+00,  -1.69000000e+00,  -1.68000000e+00,\n",
       "        -1.67000000e+00,  -1.66000000e+00,  -1.65000000e+00,\n",
       "        -1.64000000e+00,  -1.63000000e+00,  -1.62000000e+00,\n",
       "        -1.61000000e+00,  -1.60000000e+00,  -1.59000000e+00,\n",
       "        -1.58000000e+00,  -1.57000000e+00,  -1.56000000e+00,\n",
       "        -1.55000000e+00,  -1.54000000e+00,  -1.53000000e+00,\n",
       "        -1.52000000e+00,  -1.51000000e+00,  -1.50000000e+00,\n",
       "        -1.49000000e+00,  -1.48000000e+00,  -1.47000000e+00,\n",
       "        -1.46000000e+00,  -1.45000000e+00,  -1.44000000e+00,\n",
       "        -1.43000000e+00,  -1.42000000e+00,  -1.41000000e+00,\n",
       "        -1.40000000e+00,  -1.39000000e+00,  -1.38000000e+00,\n",
       "        -1.37000000e+00,  -1.36000000e+00,  -1.35000000e+00,\n",
       "        -1.34000000e+00,  -1.33000000e+00,  -1.32000000e+00,\n",
       "        -1.31000000e+00,  -1.30000000e+00,  -1.29000000e+00,\n",
       "        -1.28000000e+00,  -1.27000000e+00,  -1.26000000e+00,\n",
       "        -1.25000000e+00,  -1.24000000e+00,  -1.23000000e+00,\n",
       "        -1.22000000e+00,  -1.21000000e+00,  -1.20000000e+00,\n",
       "        -1.19000000e+00,  -1.18000000e+00,  -1.17000000e+00,\n",
       "        -1.16000000e+00,  -1.15000000e+00,  -1.14000000e+00,\n",
       "        -1.13000000e+00,  -1.12000000e+00,  -1.11000000e+00,\n",
       "        -1.10000000e+00,  -1.09000000e+00,  -1.08000000e+00,\n",
       "        -1.07000000e+00,  -1.06000000e+00,  -1.05000000e+00,\n",
       "        -1.04000000e+00,  -1.03000000e+00,  -1.02000000e+00,\n",
       "        -1.01000000e+00,  -1.00000000e+00,  -9.90000000e-01,\n",
       "        -9.80000000e-01,  -9.70000000e-01,  -9.60000000e-01,\n",
       "        -9.50000000e-01,  -9.40000000e-01,  -9.30000000e-01,\n",
       "        -9.20000000e-01,  -9.10000000e-01,  -9.00000000e-01,\n",
       "        -8.90000000e-01,  -8.80000000e-01,  -8.70000000e-01,\n",
       "        -8.60000000e-01,  -8.50000000e-01,  -8.40000000e-01,\n",
       "        -8.30000000e-01,  -8.20000000e-01,  -8.10000000e-01,\n",
       "        -8.00000000e-01,  -7.90000000e-01,  -7.80000000e-01,\n",
       "        -7.70000000e-01,  -7.60000000e-01,  -7.50000000e-01,\n",
       "        -7.40000000e-01,  -7.30000000e-01,  -7.20000000e-01,\n",
       "        -7.10000000e-01,  -7.00000000e-01,  -6.90000000e-01,\n",
       "        -6.80000000e-01,  -6.70000000e-01,  -6.60000000e-01,\n",
       "        -6.50000000e-01,  -6.40000000e-01,  -6.30000000e-01,\n",
       "        -6.20000000e-01,  -6.10000000e-01,  -6.00000000e-01,\n",
       "        -5.90000000e-01,  -5.80000000e-01,  -5.70000000e-01,\n",
       "        -5.60000000e-01,  -5.50000000e-01,  -5.40000000e-01,\n",
       "        -5.30000000e-01,  -5.20000000e-01,  -5.10000000e-01,\n",
       "        -5.00000000e-01,  -4.90000000e-01,  -4.80000000e-01,\n",
       "        -4.70000000e-01,  -4.60000000e-01,  -4.50000000e-01,\n",
       "        -4.40000000e-01,  -4.30000000e-01,  -4.20000000e-01,\n",
       "        -4.10000000e-01,  -4.00000000e-01,  -3.90000000e-01,\n",
       "        -3.80000000e-01,  -3.70000000e-01,  -3.60000000e-01,\n",
       "        -3.50000000e-01,  -3.40000000e-01,  -3.30000000e-01,\n",
       "        -3.20000000e-01,  -3.10000000e-01,  -3.00000000e-01,\n",
       "        -2.90000000e-01,  -2.80000000e-01,  -2.70000000e-01,\n",
       "        -2.60000000e-01,  -2.50000000e-01,  -2.40000000e-01,\n",
       "        -2.30000000e-01,  -2.20000000e-01,  -2.10000000e-01,\n",
       "        -2.00000000e-01,  -1.90000000e-01,  -1.80000000e-01,\n",
       "        -1.70000000e-01,  -1.60000000e-01,  -1.50000000e-01,\n",
       "        -1.40000000e-01,  -1.30000000e-01,  -1.20000000e-01,\n",
       "        -1.10000000e-01,  -1.00000000e-01,  -9.00000000e-02,\n",
       "        -8.00000000e-02,  -7.00000000e-02,  -6.00000000e-02,\n",
       "        -5.00000000e-02,  -4.00000000e-02,  -3.00000000e-02,\n",
       "        -2.00000000e-02,  -1.00000000e-02,  -1.06581410e-13,\n",
       "         1.00000000e-02,   2.00000000e-02,   3.00000000e-02,\n",
       "         4.00000000e-02,   5.00000000e-02,   6.00000000e-02,\n",
       "         7.00000000e-02,   8.00000000e-02,   9.00000000e-02,\n",
       "         1.00000000e-01,   1.10000000e-01,   1.20000000e-01,\n",
       "         1.30000000e-01,   1.40000000e-01,   1.50000000e-01,\n",
       "         1.60000000e-01,   1.70000000e-01,   1.80000000e-01,\n",
       "         1.90000000e-01,   2.00000000e-01,   2.10000000e-01,\n",
       "         2.20000000e-01,   2.30000000e-01,   2.40000000e-01,\n",
       "         2.50000000e-01,   2.60000000e-01,   2.70000000e-01,\n",
       "         2.80000000e-01,   2.90000000e-01,   3.00000000e-01,\n",
       "         3.10000000e-01,   3.20000000e-01,   3.30000000e-01,\n",
       "         3.40000000e-01,   3.50000000e-01,   3.60000000e-01,\n",
       "         3.70000000e-01,   3.80000000e-01,   3.90000000e-01,\n",
       "         4.00000000e-01,   4.10000000e-01,   4.20000000e-01,\n",
       "         4.30000000e-01,   4.40000000e-01,   4.50000000e-01,\n",
       "         4.60000000e-01,   4.70000000e-01,   4.80000000e-01,\n",
       "         4.90000000e-01,   5.00000000e-01,   5.10000000e-01,\n",
       "         5.20000000e-01,   5.30000000e-01,   5.40000000e-01,\n",
       "         5.50000000e-01,   5.60000000e-01,   5.70000000e-01,\n",
       "         5.80000000e-01,   5.90000000e-01,   6.00000000e-01,\n",
       "         6.10000000e-01,   6.20000000e-01,   6.30000000e-01,\n",
       "         6.40000000e-01,   6.50000000e-01,   6.60000000e-01,\n",
       "         6.70000000e-01,   6.80000000e-01,   6.90000000e-01,\n",
       "         7.00000000e-01,   7.10000000e-01,   7.20000000e-01,\n",
       "         7.30000000e-01,   7.40000000e-01,   7.50000000e-01,\n",
       "         7.60000000e-01,   7.70000000e-01,   7.80000000e-01,\n",
       "         7.90000000e-01,   8.00000000e-01,   8.10000000e-01,\n",
       "         8.20000000e-01,   8.30000000e-01,   8.40000000e-01,\n",
       "         8.50000000e-01,   8.60000000e-01,   8.70000000e-01,\n",
       "         8.80000000e-01,   8.90000000e-01,   9.00000000e-01,\n",
       "         9.10000000e-01,   9.20000000e-01,   9.30000000e-01,\n",
       "         9.40000000e-01,   9.50000000e-01,   9.60000000e-01,\n",
       "         9.70000000e-01,   9.80000000e-01,   9.90000000e-01,\n",
       "         1.00000000e+00,   1.01000000e+00,   1.02000000e+00,\n",
       "         1.03000000e+00,   1.04000000e+00,   1.05000000e+00,\n",
       "         1.06000000e+00,   1.07000000e+00,   1.08000000e+00,\n",
       "         1.09000000e+00,   1.10000000e+00,   1.11000000e+00,\n",
       "         1.12000000e+00,   1.13000000e+00,   1.14000000e+00,\n",
       "         1.15000000e+00,   1.16000000e+00,   1.17000000e+00,\n",
       "         1.18000000e+00,   1.19000000e+00,   1.20000000e+00,\n",
       "         1.21000000e+00,   1.22000000e+00,   1.23000000e+00,\n",
       "         1.24000000e+00,   1.25000000e+00,   1.26000000e+00,\n",
       "         1.27000000e+00,   1.28000000e+00,   1.29000000e+00,\n",
       "         1.30000000e+00,   1.31000000e+00,   1.32000000e+00,\n",
       "         1.33000000e+00,   1.34000000e+00,   1.35000000e+00,\n",
       "         1.36000000e+00,   1.37000000e+00,   1.38000000e+00,\n",
       "         1.39000000e+00,   1.40000000e+00,   1.41000000e+00,\n",
       "         1.42000000e+00,   1.43000000e+00,   1.44000000e+00,\n",
       "         1.45000000e+00,   1.46000000e+00,   1.47000000e+00,\n",
       "         1.48000000e+00,   1.49000000e+00,   1.50000000e+00,\n",
       "         1.51000000e+00,   1.52000000e+00,   1.53000000e+00,\n",
       "         1.54000000e+00,   1.55000000e+00,   1.56000000e+00,\n",
       "         1.57000000e+00,   1.58000000e+00,   1.59000000e+00,\n",
       "         1.60000000e+00,   1.61000000e+00,   1.62000000e+00,\n",
       "         1.63000000e+00,   1.64000000e+00,   1.65000000e+00,\n",
       "         1.66000000e+00,   1.67000000e+00,   1.68000000e+00,\n",
       "         1.69000000e+00,   1.70000000e+00,   1.71000000e+00,\n",
       "         1.72000000e+00,   1.73000000e+00,   1.74000000e+00,\n",
       "         1.75000000e+00,   1.76000000e+00,   1.77000000e+00,\n",
       "         1.78000000e+00,   1.79000000e+00,   1.80000000e+00,\n",
       "         1.81000000e+00,   1.82000000e+00,   1.83000000e+00,\n",
       "         1.84000000e+00,   1.85000000e+00,   1.86000000e+00,\n",
       "         1.87000000e+00,   1.88000000e+00,   1.89000000e+00,\n",
       "         1.90000000e+00,   1.91000000e+00,   1.92000000e+00,\n",
       "         1.93000000e+00,   1.94000000e+00,   1.95000000e+00,\n",
       "         1.96000000e+00,   1.97000000e+00,   1.98000000e+00,\n",
       "         1.99000000e+00,   2.00000000e+00,   2.01000000e+00,\n",
       "         2.02000000e+00,   2.03000000e+00,   2.04000000e+00,\n",
       "         2.05000000e+00,   2.06000000e+00,   2.07000000e+00,\n",
       "         2.08000000e+00,   2.09000000e+00,   2.10000000e+00,\n",
       "         2.11000000e+00,   2.12000000e+00,   2.13000000e+00,\n",
       "         2.14000000e+00,   2.15000000e+00,   2.16000000e+00,\n",
       "         2.17000000e+00,   2.18000000e+00,   2.19000000e+00,\n",
       "         2.20000000e+00,   2.21000000e+00,   2.22000000e+00,\n",
       "         2.23000000e+00,   2.24000000e+00,   2.25000000e+00,\n",
       "         2.26000000e+00,   2.27000000e+00,   2.28000000e+00,\n",
       "         2.29000000e+00,   2.30000000e+00,   2.31000000e+00,\n",
       "         2.32000000e+00,   2.33000000e+00,   2.34000000e+00,\n",
       "         2.35000000e+00,   2.36000000e+00,   2.37000000e+00,\n",
       "         2.38000000e+00,   2.39000000e+00,   2.40000000e+00,\n",
       "         2.41000000e+00,   2.42000000e+00,   2.43000000e+00,\n",
       "         2.44000000e+00,   2.45000000e+00,   2.46000000e+00,\n",
       "         2.47000000e+00,   2.48000000e+00,   2.49000000e+00,\n",
       "         2.50000000e+00,   2.51000000e+00,   2.52000000e+00,\n",
       "         2.53000000e+00,   2.54000000e+00,   2.55000000e+00,\n",
       "         2.56000000e+00,   2.57000000e+00,   2.58000000e+00,\n",
       "         2.59000000e+00,   2.60000000e+00,   2.61000000e+00,\n",
       "         2.62000000e+00,   2.63000000e+00,   2.64000000e+00,\n",
       "         2.65000000e+00,   2.66000000e+00,   2.67000000e+00,\n",
       "         2.68000000e+00,   2.69000000e+00,   2.70000000e+00,\n",
       "         2.71000000e+00,   2.72000000e+00,   2.73000000e+00,\n",
       "         2.74000000e+00,   2.75000000e+00,   2.76000000e+00,\n",
       "         2.77000000e+00,   2.78000000e+00,   2.79000000e+00,\n",
       "         2.80000000e+00,   2.81000000e+00,   2.82000000e+00,\n",
       "         2.83000000e+00,   2.84000000e+00,   2.85000000e+00,\n",
       "         2.86000000e+00,   2.87000000e+00,   2.88000000e+00,\n",
       "         2.89000000e+00,   2.90000000e+00,   2.91000000e+00,\n",
       "         2.92000000e+00,   2.93000000e+00,   2.94000000e+00,\n",
       "         2.95000000e+00,   2.96000000e+00,   2.97000000e+00,\n",
       "         2.98000000e+00,   2.99000000e+00,   3.00000000e+00,\n",
       "         3.01000000e+00,   3.02000000e+00,   3.03000000e+00,\n",
       "         3.04000000e+00,   3.05000000e+00,   3.06000000e+00,\n",
       "         3.07000000e+00,   3.08000000e+00,   3.09000000e+00,\n",
       "         3.10000000e+00,   3.11000000e+00,   3.12000000e+00,\n",
       "         3.13000000e+00,   3.14000000e+00,   3.15000000e+00,\n",
       "         3.16000000e+00,   3.17000000e+00,   3.18000000e+00,\n",
       "         3.19000000e+00,   3.20000000e+00,   3.21000000e+00,\n",
       "         3.22000000e+00,   3.23000000e+00,   3.24000000e+00,\n",
       "         3.25000000e+00,   3.26000000e+00,   3.27000000e+00,\n",
       "         3.28000000e+00,   3.29000000e+00,   3.30000000e+00,\n",
       "         3.31000000e+00,   3.32000000e+00,   3.33000000e+00,\n",
       "         3.34000000e+00,   3.35000000e+00,   3.36000000e+00,\n",
       "         3.37000000e+00,   3.38000000e+00,   3.39000000e+00,\n",
       "         3.40000000e+00,   3.41000000e+00,   3.42000000e+00,\n",
       "         3.43000000e+00,   3.44000000e+00,   3.45000000e+00,\n",
       "         3.46000000e+00,   3.47000000e+00,   3.48000000e+00,\n",
       "         3.49000000e+00,   3.50000000e+00,   3.51000000e+00,\n",
       "         3.52000000e+00,   3.53000000e+00,   3.54000000e+00,\n",
       "         3.55000000e+00,   3.56000000e+00,   3.57000000e+00,\n",
       "         3.58000000e+00,   3.59000000e+00,   3.60000000e+00,\n",
       "         3.61000000e+00,   3.62000000e+00,   3.63000000e+00,\n",
       "         3.64000000e+00,   3.65000000e+00,   3.66000000e+00,\n",
       "         3.67000000e+00,   3.68000000e+00,   3.69000000e+00,\n",
       "         3.70000000e+00,   3.71000000e+00,   3.72000000e+00,\n",
       "         3.73000000e+00,   3.74000000e+00,   3.75000000e+00,\n",
       "         3.76000000e+00,   3.77000000e+00,   3.78000000e+00,\n",
       "         3.79000000e+00,   3.80000000e+00,   3.81000000e+00,\n",
       "         3.82000000e+00,   3.83000000e+00,   3.84000000e+00,\n",
       "         3.85000000e+00,   3.86000000e+00,   3.87000000e+00,\n",
       "         3.88000000e+00,   3.89000000e+00,   3.90000000e+00,\n",
       "         3.91000000e+00,   3.92000000e+00,   3.93000000e+00,\n",
       "         3.94000000e+00,   3.95000000e+00,   3.96000000e+00,\n",
       "         3.97000000e+00,   3.98000000e+00,   3.99000000e+00,\n",
       "         4.00000000e+00,   4.01000000e+00,   4.02000000e+00,\n",
       "         4.03000000e+00,   4.04000000e+00,   4.05000000e+00,\n",
       "         4.06000000e+00,   4.07000000e+00,   4.08000000e+00,\n",
       "         4.09000000e+00,   4.10000000e+00,   4.11000000e+00,\n",
       "         4.12000000e+00,   4.13000000e+00,   4.14000000e+00,\n",
       "         4.15000000e+00,   4.16000000e+00,   4.17000000e+00,\n",
       "         4.18000000e+00,   4.19000000e+00,   4.20000000e+00,\n",
       "         4.21000000e+00,   4.22000000e+00,   4.23000000e+00,\n",
       "         4.24000000e+00,   4.25000000e+00,   4.26000000e+00,\n",
       "         4.27000000e+00,   4.28000000e+00,   4.29000000e+00,\n",
       "         4.30000000e+00,   4.31000000e+00,   4.32000000e+00,\n",
       "         4.33000000e+00,   4.34000000e+00,   4.35000000e+00,\n",
       "         4.36000000e+00,   4.37000000e+00,   4.38000000e+00,\n",
       "         4.39000000e+00,   4.40000000e+00,   4.41000000e+00,\n",
       "         4.42000000e+00,   4.43000000e+00,   4.44000000e+00,\n",
       "         4.45000000e+00,   4.46000000e+00,   4.47000000e+00,\n",
       "         4.48000000e+00,   4.49000000e+00,   4.50000000e+00,\n",
       "         4.51000000e+00,   4.52000000e+00,   4.53000000e+00,\n",
       "         4.54000000e+00,   4.55000000e+00,   4.56000000e+00,\n",
       "         4.57000000e+00,   4.58000000e+00,   4.59000000e+00,\n",
       "         4.60000000e+00,   4.61000000e+00,   4.62000000e+00,\n",
       "         4.63000000e+00,   4.64000000e+00,   4.65000000e+00,\n",
       "         4.66000000e+00,   4.67000000e+00,   4.68000000e+00,\n",
       "         4.69000000e+00,   4.70000000e+00,   4.71000000e+00,\n",
       "         4.72000000e+00,   4.73000000e+00,   4.74000000e+00,\n",
       "         4.75000000e+00,   4.76000000e+00,   4.77000000e+00,\n",
       "         4.78000000e+00,   4.79000000e+00,   4.80000000e+00,\n",
       "         4.81000000e+00,   4.82000000e+00,   4.83000000e+00,\n",
       "         4.84000000e+00,   4.85000000e+00,   4.86000000e+00,\n",
       "         4.87000000e+00,   4.88000000e+00,   4.89000000e+00,\n",
       "         4.90000000e+00,   4.91000000e+00,   4.92000000e+00,\n",
       "         4.93000000e+00,   4.94000000e+00,   4.95000000e+00,\n",
       "         4.96000000e+00,   4.97000000e+00,   4.98000000e+00,\n",
       "         4.99000000e+00])"
      ]
     },
     "execution_count": 32,
     "metadata": {},
     "output_type": "execute_result"
    }
   ],
   "source": [
    "points"
   ]
  },
  {
   "cell_type": "code",
   "execution_count": 36,
   "metadata": {
    "collapsed": true
   },
   "outputs": [],
   "source": [
    "xs, ys = np.meshgrid(points, points)"
   ]
  },
  {
   "cell_type": "code",
   "execution_count": 37,
   "metadata": {},
   "outputs": [
    {
     "data": {
      "text/plain": [
       "array([[-5.  , -4.99, -4.98, ...,  4.97,  4.98,  4.99],\n",
       "       [-5.  , -4.99, -4.98, ...,  4.97,  4.98,  4.99],\n",
       "       [-5.  , -4.99, -4.98, ...,  4.97,  4.98,  4.99],\n",
       "       ..., \n",
       "       [-5.  , -4.99, -4.98, ...,  4.97,  4.98,  4.99],\n",
       "       [-5.  , -4.99, -4.98, ...,  4.97,  4.98,  4.99],\n",
       "       [-5.  , -4.99, -4.98, ...,  4.97,  4.98,  4.99]])"
      ]
     },
     "execution_count": 37,
     "metadata": {},
     "output_type": "execute_result"
    }
   ],
   "source": [
    "xs"
   ]
  },
  {
   "cell_type": "code",
   "execution_count": 38,
   "metadata": {},
   "outputs": [
    {
     "data": {
      "text/plain": [
       "array([[-5.  , -5.  , -5.  , ..., -5.  , -5.  , -5.  ],\n",
       "       [-4.99, -4.99, -4.99, ..., -4.99, -4.99, -4.99],\n",
       "       [-4.98, -4.98, -4.98, ..., -4.98, -4.98, -4.98],\n",
       "       ..., \n",
       "       [ 4.97,  4.97,  4.97, ...,  4.97,  4.97,  4.97],\n",
       "       [ 4.98,  4.98,  4.98, ...,  4.98,  4.98,  4.98],\n",
       "       [ 4.99,  4.99,  4.99, ...,  4.99,  4.99,  4.99]])"
      ]
     },
     "execution_count": 38,
     "metadata": {},
     "output_type": "execute_result"
    }
   ],
   "source": [
    "ys"
   ]
  },
  {
   "cell_type": "code",
   "execution_count": 39,
   "metadata": {},
   "outputs": [
    {
     "data": {
      "text/plain": [
       "array([[-5.  , -4.99, -4.98, ...,  4.97,  4.98,  4.99],\n",
       "       [-5.  , -4.99, -4.98, ...,  4.97,  4.98,  4.99],\n",
       "       [-5.  , -4.99, -4.98, ...,  4.97,  4.98,  4.99],\n",
       "       ..., \n",
       "       [-5.  , -4.99, -4.98, ...,  4.97,  4.98,  4.99],\n",
       "       [-5.  , -4.99, -4.98, ...,  4.97,  4.98,  4.99],\n",
       "       [-5.  , -4.99, -4.98, ...,  4.97,  4.98,  4.99]])"
      ]
     },
     "execution_count": 39,
     "metadata": {},
     "output_type": "execute_result"
    }
   ],
   "source": [
    "xs"
   ]
  },
  {
   "cell_type": "code",
   "execution_count": 40,
   "metadata": {},
   "outputs": [
    {
     "data": {
      "text/plain": [
       "array([[-5.  , -5.  , -5.  , ..., -5.  , -5.  , -5.  ],\n",
       "       [-4.99, -4.99, -4.99, ..., -4.99, -4.99, -4.99],\n",
       "       [-4.98, -4.98, -4.98, ..., -4.98, -4.98, -4.98],\n",
       "       ..., \n",
       "       [ 4.97,  4.97,  4.97, ...,  4.97,  4.97,  4.97],\n",
       "       [ 4.98,  4.98,  4.98, ...,  4.98,  4.98,  4.98],\n",
       "       [ 4.99,  4.99,  4.99, ...,  4.99,  4.99,  4.99]])"
      ]
     },
     "execution_count": 40,
     "metadata": {},
     "output_type": "execute_result"
    }
   ],
   "source": [
    "ys"
   ]
  },
  {
   "cell_type": "code",
   "execution_count": 45,
   "metadata": {
    "collapsed": true
   },
   "outputs": [],
   "source": [
    "import matplotlib.pyplot as plt"
   ]
  },
  {
   "cell_type": "code",
   "execution_count": 42,
   "metadata": {
    "collapsed": true
   },
   "outputs": [],
   "source": [
    "z = np.sqrt(xs**2 + ys**2)"
   ]
  },
  {
   "cell_type": "code",
   "execution_count": 43,
   "metadata": {},
   "outputs": [
    {
     "data": {
      "text/plain": [
       "array([[ 7.07106781,  7.06400028,  7.05693985, ...,  7.04988652,\n",
       "         7.05693985,  7.06400028],\n",
       "       [ 7.06400028,  7.05692568,  7.04985815, ...,  7.04279774,\n",
       "         7.04985815,  7.05692568],\n",
       "       [ 7.05693985,  7.04985815,  7.04278354, ...,  7.03571603,\n",
       "         7.04278354,  7.04985815],\n",
       "       ..., \n",
       "       [ 7.04988652,  7.04279774,  7.03571603, ...,  7.0286414 ,\n",
       "         7.03571603,  7.04279774],\n",
       "       [ 7.05693985,  7.04985815,  7.04278354, ...,  7.03571603,\n",
       "         7.04278354,  7.04985815],\n",
       "       [ 7.06400028,  7.05692568,  7.04985815, ...,  7.04279774,\n",
       "         7.04985815,  7.05692568]])"
      ]
     },
     "execution_count": 43,
     "metadata": {},
     "output_type": "execute_result"
    }
   ],
   "source": [
    "z"
   ]
  },
  {
   "cell_type": "code",
   "execution_count": 47,
   "metadata": {},
   "outputs": [
    {
     "data": {
      "image/png": "[encoded data removed]",
      "text/plain": [
       "<matplotlib.figure.Figure at 0x1184142b0>"
      ]
     },
     "metadata": {},
     "output_type": "display_data"
    }
   ],
   "source": [
    "\n",
    "plt.imshow(z, cmap=plt.cm.gray)\n",
    "plt.show()"
   ]
  },
  {
   "cell_type": "code",
   "execution_count": 48,
   "metadata": {
    "collapsed": true
   },
   "outputs": [],
   "source": [
    "xarr = np.array([1.1, 1.2, 1.3, 1.4, 1.5])"
   ]
  },
  {
   "cell_type": "code",
   "execution_count": 49,
   "metadata": {
    "collapsed": true
   },
   "outputs": [],
   "source": [
    "yarr = np.array([2.1, 2.2, 2.3, 2.4, 2.5])"
   ]
  },
  {
   "cell_type": "code",
   "execution_count": 50,
   "metadata": {
    "collapsed": true
   },
   "outputs": [],
   "source": [
    "cond = np.array([True, False, True, True, False])"
   ]
  },
  {
   "cell_type": "code",
   "execution_count": 53,
   "metadata": {
    "collapsed": true
   },
   "outputs": [],
   "source": [
    "result = [(x if c else y) for x, y, c in zip(xarr, yarr, cond)]"
   ]
  },
  {
   "cell_type": "code",
   "execution_count": 54,
   "metadata": {},
   "outputs": [
    {
     "data": {
      "text/plain": [
       "[1.1000000000000001, 2.2000000000000002, 1.3, 1.3999999999999999, 2.5]"
      ]
     },
     "execution_count": 54,
     "metadata": {},
     "output_type": "execute_result"
    }
   ],
   "source": [
    "result"
   ]
  },
  {
   "cell_type": "code",
   "execution_count": 55,
   "metadata": {
    "collapsed": true
   },
   "outputs": [],
   "source": [
    "result = np.where(cond, xarr, yarr)"
   ]
  },
  {
   "cell_type": "code",
   "execution_count": 56,
   "metadata": {},
   "outputs": [
    {
     "data": {
      "text/plain": [
       "array([ 1.1,  2.2,  1.3,  1.4,  2.5])"
      ]
     },
     "execution_count": 56,
     "metadata": {},
     "output_type": "execute_result"
    }
   ],
   "source": [
    "result"
   ]
  },
  {
   "cell_type": "code",
   "execution_count": 57,
   "metadata": {
    "collapsed": true
   },
   "outputs": [],
   "source": [
    "arr = np.random.randn(4,4 )"
   ]
  },
  {
   "cell_type": "code",
   "execution_count": 58,
   "metadata": {},
   "outputs": [
    {
     "data": {
      "text/plain": [
       "array([[ 0.01115094, -0.99932739, -1.06356539,  0.1017664 ],\n",
       "       [-0.70794763, -0.92015929,  0.10013958, -1.40586281],\n",
       "       [-0.13879287, -0.36910943, -0.03032103,  0.56570744],\n",
       "       [-1.8818338 ,  1.14350593,  1.22369464,  1.27170313]])"
      ]
     },
     "execution_count": 58,
     "metadata": {},
     "output_type": "execute_result"
    }
   ],
   "source": [
    "arr"
   ]
  },
  {
   "cell_type": "code",
   "execution_count": 59,
   "metadata": {},
   "outputs": [
    {
     "data": {
      "text/plain": [
       "array([[ 2, -2, -2,  2],\n",
       "       [-2, -2,  2, -2],\n",
       "       [-2, -2, -2,  2],\n",
       "       [-2,  2,  2,  2]])"
      ]
     },
     "execution_count": 59,
     "metadata": {},
     "output_type": "execute_result"
    }
   ],
   "source": [
    "np.where(arr>0, 2, -2)"
   ]
  },
  {
   "cell_type": "code",
   "execution_count": 60,
   "metadata": {},
   "outputs": [
    {
     "data": {
      "text/plain": [
       "array([[ 2.        , -0.99932739, -1.06356539,  2.        ],\n",
       "       [-0.70794763, -0.92015929,  2.        , -1.40586281],\n",
       "       [-0.13879287, -0.36910943, -0.03032103,  2.        ],\n",
       "       [-1.8818338 ,  2.        ,  2.        ,  2.        ]])"
      ]
     },
     "execution_count": 60,
     "metadata": {},
     "output_type": "execute_result"
    }
   ],
   "source": [
    "np.where(arr>0, 2, arr)"
   ]
  },
  {
   "cell_type": "code",
   "execution_count": 61,
   "metadata": {
    "collapsed": true
   },
   "outputs": [],
   "source": [
    "arr = np.random.randn(5, 4)"
   ]
  },
  {
   "cell_type": "code",
   "execution_count": 62,
   "metadata": {},
   "outputs": [
    {
     "data": {
      "text/plain": [
       "array([[-0.5832281 ,  0.41975691, -1.93315552, -0.56558947],\n",
       "       [-0.32404862, -0.20453779, -1.21233506,  0.55214847],\n",
       "       [-0.41022776,  0.80011103,  0.14567793,  0.02778236],\n",
       "       [-0.83408811, -0.83883916, -0.76168716, -0.7635281 ],\n",
       "       [ 1.27540663, -1.76109499, -0.17232749,  0.92648094]])"
      ]
     },
     "execution_count": 62,
     "metadata": {},
     "output_type": "execute_result"
    }
   ],
   "source": [
    "arr "
   ]
  },
  {
   "cell_type": "code",
   "execution_count": 63,
   "metadata": {},
   "outputs": [
    {
     "data": {
      "text/plain": [
       "-0.3108661532278173"
      ]
     },
     "execution_count": 63,
     "metadata": {},
     "output_type": "execute_result"
    }
   ],
   "source": [
    "arr.mean()"
   ]
  },
  {
   "cell_type": "code",
   "execution_count": 64,
   "metadata": {},
   "outputs": [
    {
     "data": {
      "text/plain": [
       "-0.3108661532278173"
      ]
     },
     "execution_count": 64,
     "metadata": {},
     "output_type": "execute_result"
    }
   ],
   "source": [
    "np.mean(arr)"
   ]
  },
  {
   "cell_type": "code",
   "execution_count": 65,
   "metadata": {},
   "outputs": [
    {
     "data": {
      "text/plain": [
       "array([[-0.5832281 ,  0.41975691, -1.93315552, -0.56558947],\n",
       "       [-0.32404862, -0.20453779, -1.21233506,  0.55214847],\n",
       "       [-0.41022776,  0.80011103,  0.14567793,  0.02778236],\n",
       "       [-0.83408811, -0.83883916, -0.76168716, -0.7635281 ],\n",
       "       [ 1.27540663, -1.76109499, -0.17232749,  0.92648094]])"
      ]
     },
     "execution_count": 65,
     "metadata": {},
     "output_type": "execute_result"
    }
   ],
   "source": [
    "arr"
   ]
  },
  {
   "cell_type": "code",
   "execution_count": 66,
   "metadata": {},
   "outputs": [
    {
     "data": {
      "text/plain": [
       "-0.3108661532278173"
      ]
     },
     "execution_count": 66,
     "metadata": {},
     "output_type": "execute_result"
    }
   ],
   "source": [
    "arr.mean()"
   ]
  },
  {
   "cell_type": "code",
   "execution_count": 67,
   "metadata": {},
   "outputs": [
    {
     "data": {
      "text/plain": [
       "array([-0.66555404, -0.29719325,  0.14083589, -0.79953563,  0.06711627])"
      ]
     },
     "execution_count": 67,
     "metadata": {},
     "output_type": "execute_result"
    }
   ],
   "source": [
    "arr.mean(axis=1)"
   ]
  },
  {
   "cell_type": "code",
   "execution_count": 68,
   "metadata": {},
   "outputs": [
    {
     "data": {
      "text/plain": [
       "-6.2173230645563464"
      ]
     },
     "execution_count": 68,
     "metadata": {},
     "output_type": "execute_result"
    }
   ],
   "source": [
    "arr.sum()"
   ]
  },
  {
   "cell_type": "code",
   "execution_count": 70,
   "metadata": {},
   "outputs": [
    {
     "data": {
      "text/plain": [
       "array([-2.66221618, -1.18877301,  0.56334356, -3.19814253,  0.26846509])"
      ]
     },
     "execution_count": 70,
     "metadata": {},
     "output_type": "execute_result"
    }
   ],
   "source": [
    "arr.sum(1)"
   ]
  },
  {
   "cell_type": "code",
   "execution_count": 72,
   "metadata": {
    "collapsed": true
   },
   "outputs": [],
   "source": [
    "arr = np.array([[0, 1, 2], [3, 4, 5],[6, 7, 8]])"
   ]
  },
  {
   "cell_type": "code",
   "execution_count": 77,
   "metadata": {},
   "outputs": [
    {
     "data": {
      "text/plain": [
       "array([[ 0,  1,  2],\n",
       "       [ 3,  5,  7],\n",
       "       [ 9, 12, 15]])"
      ]
     },
     "execution_count": 77,
     "metadata": {},
     "output_type": "execute_result"
    }
   ],
   "source": [
    "arr.cumsum(0)"
   ]
  },
  {
   "cell_type": "code",
   "execution_count": 78,
   "metadata": {
    "collapsed": true
   },
   "outputs": [],
   "source": [
    "arr = np.random.randn(100)"
   ]
  },
  {
   "cell_type": "code",
   "execution_count": 79,
   "metadata": {},
   "outputs": [
    {
     "data": {
      "text/plain": [
       "array([  5.43847782e-02,  -2.64799159e-01,  -5.88114326e-01,\n",
       "        -6.48063126e-01,  -2.12533019e+00,   1.81689121e+00,\n",
       "        -1.92335936e-01,   9.15320440e-01,   2.55828224e+00,\n",
       "        -7.46037943e-01,   5.93071129e-01,   6.91572892e-01,\n",
       "        -3.82954351e-01,   7.06772543e-01,  -3.17387692e-01,\n",
       "        -1.26430810e+00,  -9.07847395e-01,  -4.95255736e-03,\n",
       "        -8.44197929e-01,  -3.04475601e-01,   5.36585246e-01,\n",
       "        -1.11721570e+00,  -1.20088392e+00,  -1.49388367e-01,\n",
       "         5.70641661e-01,  -1.83827568e+00,  -5.63428544e-01,\n",
       "         1.27058876e+00,   1.33269485e-01,  -8.35913903e-01,\n",
       "        -8.69814977e-01,   8.64138580e-01,  -1.89091346e-02,\n",
       "        -1.09110305e-03,  -1.54204401e+00,  -4.45750215e-01,\n",
       "         1.52976747e+00,  -1.84335046e-01,   1.23293036e+00,\n",
       "        -5.33914109e-01,  -7.72335412e-02,   1.53877843e+00,\n",
       "         3.50692834e-01,  -1.04488821e+00,  -1.69660406e+00,\n",
       "         3.08382618e-01,   1.11113310e+00,   5.91516585e-01,\n",
       "        -8.74811999e-01,   5.47542277e-03,  -1.56607758e-02,\n",
       "         9.86049861e-01,   2.09912022e-01,   3.40425871e-01,\n",
       "         5.96373874e-01,   1.18291082e+00,  -3.79541019e-01,\n",
       "         1.16651159e+00,   1.35100627e+00,  -1.17785475e-01,\n",
       "        -2.66510701e-01,   3.65836287e-02,   1.60709864e+00,\n",
       "         9.82435244e-01,   8.50505376e-01,  -4.99421119e-01,\n",
       "         2.31857513e-01,  -1.97276329e+00,   3.80102758e-01,\n",
       "         6.38056070e-01,   1.10319424e+00,   5.03226773e-01,\n",
       "         8.76315092e-01,   3.23730316e-02,   8.18255990e-01,\n",
       "        -7.24991486e-01,   1.11088214e+00,  -2.69998113e-01,\n",
       "        -6.09918050e-01,   9.77802759e-01,  -1.37566318e-01,\n",
       "         1.33756539e+00,  -3.18392756e-01,   3.08328973e-01,\n",
       "         1.33499776e+00,  -8.78181406e-01,   5.10171538e-01,\n",
       "        -1.60266423e+00,   3.28991672e-02,  -1.43277336e+00,\n",
       "         8.27510139e-01,  -3.82017446e-01,  -8.94036345e-02,\n",
       "        -1.77935784e-01,  -2.46483999e+00,   7.04040725e-01,\n",
       "        -1.03595394e+00,   3.94711970e-01,  -1.56232466e-01,\n",
       "        -3.32016649e-01])"
      ]
     },
     "execution_count": 79,
     "metadata": {},
     "output_type": "execute_result"
    }
   ],
   "source": [
    "arr"
   ]
  },
  {
   "cell_type": "code",
   "execution_count": 80,
   "metadata": {},
   "outputs": [
    {
     "data": {
      "text/plain": [
       "49"
      ]
     },
     "execution_count": 80,
     "metadata": {},
     "output_type": "execute_result"
    }
   ],
   "source": [
    "(arr>0).sum()"
   ]
  },
  {
   "cell_type": "code",
   "execution_count": 82,
   "metadata": {
    "collapsed": true
   },
   "outputs": [],
   "source": [
    "arr = np.random.randn(8)"
   ]
  },
  {
   "cell_type": "code",
   "execution_count": 83,
   "metadata": {},
   "outputs": [
    {
     "data": {
      "text/plain": [
       "array([ 0.487353  ,  0.26955077, -0.35419901, -1.6672202 , -1.485967  ,\n",
       "       -1.09096499, -1.29861079, -0.47340906])"
      ]
     },
     "execution_count": 83,
     "metadata": {},
     "output_type": "execute_result"
    }
   ],
   "source": [
    "arr"
   ]
  },
  {
   "cell_type": "code",
   "execution_count": 84,
   "metadata": {
    "collapsed": true
   },
   "outputs": [],
   "source": [
    "arr.sort()"
   ]
  },
  {
   "cell_type": "code",
   "execution_count": 85,
   "metadata": {},
   "outputs": [
    {
     "data": {
      "text/plain": [
       "array([-1.6672202 , -1.485967  , -1.29861079, -1.09096499, -0.47340906,\n",
       "       -0.35419901,  0.26955077,  0.487353  ])"
      ]
     },
     "execution_count": 85,
     "metadata": {},
     "output_type": "execute_result"
    }
   ],
   "source": [
    "arr"
   ]
  },
  {
   "cell_type": "code",
   "execution_count": 94,
   "metadata": {
    "collapsed": true
   },
   "outputs": [],
   "source": [
    "arr = np.random.randn(5,3)"
   ]
  },
  {
   "cell_type": "code",
   "execution_count": 87,
   "metadata": {},
   "outputs": [
    {
     "data": {
      "text/plain": [
       "array([[-0.21327964,  0.6535873 ,  0.56606926],\n",
       "       [-0.59144681,  1.06190554, -1.82229217],\n",
       "       [ 1.00730676, -0.7280174 ,  1.61256933],\n",
       "       [ 0.25191742, -0.64510639,  0.11337721],\n",
       "       [-0.50792242,  2.19152976,  0.06592224]])"
      ]
     },
     "execution_count": 87,
     "metadata": {},
     "output_type": "execute_result"
    }
   ],
   "source": [
    "arr"
   ]
  },
  {
   "cell_type": "code",
   "execution_count": 88,
   "metadata": {
    "collapsed": true
   },
   "outputs": [],
   "source": [
    "arr.sort(1)"
   ]
  },
  {
   "cell_type": "code",
   "execution_count": 89,
   "metadata": {},
   "outputs": [
    {
     "data": {
      "text/plain": [
       "array([[-0.21327964,  0.56606926,  0.6535873 ],\n",
       "       [-1.82229217, -0.59144681,  1.06190554],\n",
       "       [-0.7280174 ,  1.00730676,  1.61256933],\n",
       "       [-0.64510639,  0.11337721,  0.25191742],\n",
       "       [-0.50792242,  0.06592224,  2.19152976]])"
      ]
     },
     "execution_count": 89,
     "metadata": {},
     "output_type": "execute_result"
    }
   ],
   "source": [
    "arr"
   ]
  },
  {
   "cell_type": "code",
   "execution_count": 92,
   "metadata": {
    "collapsed": true
   },
   "outputs": [],
   "source": [
    "arr.sort(0)"
   ]
  },
  {
   "cell_type": "code",
   "execution_count": 95,
   "metadata": {
    "collapsed": true
   },
   "outputs": [],
   "source": [
    "arr.sort()"
   ]
  },
  {
   "cell_type": "code",
   "execution_count": 96,
   "metadata": {},
   "outputs": [
    {
     "data": {
      "text/plain": [
       "array([[-1.37778691, -0.18975594,  0.37667561],\n",
       "       [-0.48437214, -0.08809639,  0.70047157],\n",
       "       [-1.27296593, -1.09561878, -0.41297758],\n",
       "       [-0.45340589, -0.37033998,  1.51173007],\n",
       "       [ 0.29254854,  0.54193521,  0.97054653]])"
      ]
     },
     "execution_count": 96,
     "metadata": {},
     "output_type": "execute_result"
    }
   ],
   "source": [
    "arr"
   ]
  },
  {
   "cell_type": "code",
   "execution_count": 97,
   "metadata": {
    "collapsed": true
   },
   "outputs": [],
   "source": [
    "large_arr = np.random.randn(1000)"
   ]
  },
  {
   "cell_type": "code",
   "execution_count": 98,
   "metadata": {
    "collapsed": true
   },
   "outputs": [],
   "source": [
    "large_arr.sort()"
   ]
  },
  {
   "cell_type": "code",
   "execution_count": 99,
   "metadata": {},
   "outputs": [
    {
     "data": {
      "text/plain": [
       "array([ -3.28687887e+00,  -2.86420183e+00,  -2.83610364e+00,\n",
       "        -2.66407197e+00,  -2.64664396e+00,  -2.62200094e+00,\n",
       "        -2.59862028e+00,  -2.47866109e+00,  -2.38145622e+00,\n",
       "        -2.33531226e+00,  -2.32720940e+00,  -2.31802188e+00,\n",
       "        -2.29565751e+00,  -2.24895058e+00,  -2.23712002e+00,\n",
       "        -2.22637575e+00,  -2.20469638e+00,  -2.20258897e+00,\n",
       "        -2.20221239e+00,  -2.17461752e+00,  -2.17411734e+00,\n",
       "        -2.15747729e+00,  -2.15331676e+00,  -2.14866561e+00,\n",
       "        -2.02547716e+00,  -1.98394784e+00,  -1.98357323e+00,\n",
       "        -1.92935380e+00,  -1.91776743e+00,  -1.91009422e+00,\n",
       "        -1.90710591e+00,  -1.89954861e+00,  -1.88408383e+00,\n",
       "        -1.87360719e+00,  -1.87301483e+00,  -1.83835540e+00,\n",
       "        -1.81144308e+00,  -1.80972031e+00,  -1.80716122e+00,\n",
       "        -1.80608703e+00,  -1.80333399e+00,  -1.79698838e+00,\n",
       "        -1.75943902e+00,  -1.74627365e+00,  -1.71322954e+00,\n",
       "        -1.71007106e+00,  -1.69302072e+00,  -1.68457492e+00,\n",
       "        -1.67675252e+00,  -1.65802320e+00,  -1.61461220e+00,\n",
       "        -1.60554001e+00,  -1.60155413e+00,  -1.59271382e+00,\n",
       "        -1.59151902e+00,  -1.59132553e+00,  -1.57179219e+00,\n",
       "        -1.57065909e+00,  -1.54702653e+00,  -1.54469865e+00,\n",
       "        -1.54301943e+00,  -1.54218796e+00,  -1.53996672e+00,\n",
       "        -1.53964137e+00,  -1.53721925e+00,  -1.52563495e+00,\n",
       "        -1.51236479e+00,  -1.51040924e+00,  -1.49107651e+00,\n",
       "        -1.48245250e+00,  -1.46879387e+00,  -1.46575998e+00,\n",
       "        -1.45274151e+00,  -1.45185115e+00,  -1.44292739e+00,\n",
       "        -1.43977043e+00,  -1.43744749e+00,  -1.43180237e+00,\n",
       "        -1.40600675e+00,  -1.39815176e+00,  -1.39690957e+00,\n",
       "        -1.39662073e+00,  -1.38846311e+00,  -1.37935926e+00,\n",
       "        -1.37514308e+00,  -1.37093548e+00,  -1.35470556e+00,\n",
       "        -1.35397223e+00,  -1.34233332e+00,  -1.33189172e+00,\n",
       "        -1.33066957e+00,  -1.32495455e+00,  -1.31298437e+00,\n",
       "        -1.31117399e+00,  -1.30955382e+00,  -1.30737733e+00,\n",
       "        -1.30718244e+00,  -1.30591961e+00,  -1.30317732e+00,\n",
       "        -1.28652382e+00,  -1.27602058e+00,  -1.27550627e+00,\n",
       "        -1.27470370e+00,  -1.27149162e+00,  -1.26689961e+00,\n",
       "        -1.26062209e+00,  -1.25888643e+00,  -1.25631969e+00,\n",
       "        -1.25623157e+00,  -1.25025853e+00,  -1.24528711e+00,\n",
       "        -1.24526082e+00,  -1.23700769e+00,  -1.23237347e+00,\n",
       "        -1.22936483e+00,  -1.21576334e+00,  -1.20073081e+00,\n",
       "        -1.19991065e+00,  -1.19983086e+00,  -1.18991917e+00,\n",
       "        -1.18706315e+00,  -1.18678139e+00,  -1.18104247e+00,\n",
       "        -1.18042155e+00,  -1.17494928e+00,  -1.16087637e+00,\n",
       "        -1.15791663e+00,  -1.14621721e+00,  -1.14536141e+00,\n",
       "        -1.14012226e+00,  -1.13028153e+00,  -1.12910735e+00,\n",
       "        -1.12270315e+00,  -1.12224844e+00,  -1.11136831e+00,\n",
       "        -1.09965991e+00,  -1.09385404e+00,  -1.08788996e+00,\n",
       "        -1.08661642e+00,  -1.07094631e+00,  -1.07078918e+00,\n",
       "        -1.06701479e+00,  -1.05563846e+00,  -1.05266595e+00,\n",
       "        -1.05178478e+00,  -1.05095379e+00,  -1.04996625e+00,\n",
       "        -1.04548491e+00,  -1.04184958e+00,  -1.03924642e+00,\n",
       "        -1.02598620e+00,  -1.01527018e+00,  -1.01216087e+00,\n",
       "        -1.01211548e+00,  -1.00613009e+00,  -1.00197920e+00,\n",
       "        -9.94688392e-01,  -9.85504726e-01,  -9.79948886e-01,\n",
       "        -9.72595111e-01,  -9.61162984e-01,  -9.59531670e-01,\n",
       "        -9.58362165e-01,  -9.42923482e-01,  -9.41572835e-01,\n",
       "        -9.39990141e-01,  -9.32361585e-01,  -9.26463904e-01,\n",
       "        -9.20987330e-01,  -9.10543525e-01,  -9.08042906e-01,\n",
       "        -9.07539052e-01,  -9.07205519e-01,  -9.06744290e-01,\n",
       "        -9.06434755e-01,  -9.06291246e-01,  -8.88633222e-01,\n",
       "        -8.87606484e-01,  -8.85990272e-01,  -8.74398231e-01,\n",
       "        -8.73815381e-01,  -8.69584116e-01,  -8.58143877e-01,\n",
       "        -8.55949842e-01,  -8.55240200e-01,  -8.50361460e-01,\n",
       "        -8.43092170e-01,  -8.34554992e-01,  -8.26970480e-01,\n",
       "        -8.12998486e-01,  -8.10105881e-01,  -8.00452485e-01,\n",
       "        -7.96879965e-01,  -7.93730695e-01,  -7.91269387e-01,\n",
       "        -7.90054105e-01,  -7.88522181e-01,  -7.83671573e-01,\n",
       "        -7.82027984e-01,  -7.81717803e-01,  -7.76236133e-01,\n",
       "        -7.73921423e-01,  -7.67195421e-01,  -7.63379470e-01,\n",
       "        -7.62347625e-01,  -7.61437137e-01,  -7.59598521e-01,\n",
       "        -7.59010496e-01,  -7.57008972e-01,  -7.56051085e-01,\n",
       "        -7.51315577e-01,  -7.49444389e-01,  -7.41094073e-01,\n",
       "        -7.37200807e-01,  -7.34827614e-01,  -7.33234371e-01,\n",
       "        -7.32580888e-01,  -7.27554097e-01,  -7.24408579e-01,\n",
       "        -7.23921605e-01,  -7.20178028e-01,  -7.19202608e-01,\n",
       "        -7.18799971e-01,  -7.17958364e-01,  -7.17523704e-01,\n",
       "        -7.13477576e-01,  -7.08904412e-01,  -6.99622910e-01,\n",
       "        -6.95929786e-01,  -6.92115793e-01,  -6.88457689e-01,\n",
       "        -6.86341222e-01,  -6.83901659e-01,  -6.82783011e-01,\n",
       "        -6.72563278e-01,  -6.71816212e-01,  -6.68045453e-01,\n",
       "        -6.66802796e-01,  -6.66478061e-01,  -6.63874461e-01,\n",
       "        -6.60363236e-01,  -6.59255282e-01,  -6.56885013e-01,\n",
       "        -6.52938961e-01,  -6.45532008e-01,  -6.45164715e-01,\n",
       "        -6.42404565e-01,  -6.41823186e-01,  -6.39317322e-01,\n",
       "        -6.38858201e-01,  -6.35912953e-01,  -6.35822953e-01,\n",
       "        -6.34339530e-01,  -6.31387496e-01,  -6.30209638e-01,\n",
       "        -6.26240421e-01,  -6.25599204e-01,  -6.24360950e-01,\n",
       "        -6.23911705e-01,  -6.23680946e-01,  -6.23309185e-01,\n",
       "        -6.22318916e-01,  -6.19693879e-01,  -6.12611792e-01,\n",
       "        -6.10039277e-01,  -6.08814393e-01,  -6.08564301e-01,\n",
       "        -6.05294214e-01,  -6.04917884e-01,  -6.01098508e-01,\n",
       "        -5.92790835e-01,  -5.87578954e-01,  -5.84169725e-01,\n",
       "        -5.78514575e-01,  -5.74777913e-01,  -5.72686446e-01,\n",
       "        -5.54795445e-01,  -5.50916177e-01,  -5.50655424e-01,\n",
       "        -5.49872782e-01,  -5.44989472e-01,  -5.28894559e-01,\n",
       "        -5.28474390e-01,  -5.25212240e-01,  -5.23109801e-01,\n",
       "        -5.21515200e-01,  -5.20840331e-01,  -5.20472970e-01,\n",
       "        -5.18003018e-01,  -5.17698616e-01,  -5.16665011e-01,\n",
       "        -5.12485718e-01,  -5.10769853e-01,  -5.07216047e-01,\n",
       "        -5.05022006e-01,  -5.02771083e-01,  -4.99424884e-01,\n",
       "        -4.99367537e-01,  -4.97442760e-01,  -4.94170960e-01,\n",
       "        -4.93324242e-01,  -4.88708376e-01,  -4.88078255e-01,\n",
       "        -4.85489381e-01,  -4.82439605e-01,  -4.79882668e-01,\n",
       "        -4.79262913e-01,  -4.78184197e-01,  -4.77696712e-01,\n",
       "        -4.74019656e-01,  -4.64204069e-01,  -4.63738225e-01,\n",
       "        -4.61104352e-01,  -4.58027777e-01,  -4.57303714e-01,\n",
       "        -4.55305967e-01,  -4.53497213e-01,  -4.52511438e-01,\n",
       "        -4.50114805e-01,  -4.43593100e-01,  -4.42561852e-01,\n",
       "        -4.41877535e-01,  -4.39533256e-01,  -4.38852891e-01,\n",
       "        -4.30793368e-01,  -4.27241256e-01,  -4.23678242e-01,\n",
       "        -4.21314056e-01,  -4.18847744e-01,  -4.18667594e-01,\n",
       "        -4.17697905e-01,  -4.16745654e-01,  -4.14121104e-01,\n",
       "        -4.14054455e-01,  -4.11799933e-01,  -4.07096185e-01,\n",
       "        -4.03685998e-01,  -4.01978021e-01,  -3.95379884e-01,\n",
       "        -3.94168952e-01,  -3.93679661e-01,  -3.93387065e-01,\n",
       "        -3.86577066e-01,  -3.77314836e-01,  -3.77087622e-01,\n",
       "        -3.76132262e-01,  -3.74319607e-01,  -3.74310106e-01,\n",
       "        -3.69878302e-01,  -3.68503213e-01,  -3.68392199e-01,\n",
       "        -3.68156943e-01,  -3.66755633e-01,  -3.66554075e-01,\n",
       "        -3.57790196e-01,  -3.57078550e-01,  -3.56402319e-01,\n",
       "        -3.49721487e-01,  -3.48104107e-01,  -3.48075999e-01,\n",
       "        -3.47815094e-01,  -3.45074495e-01,  -3.43763953e-01,\n",
       "        -3.41835980e-01,  -3.35282467e-01,  -3.33219956e-01,\n",
       "        -3.32415080e-01,  -3.30095130e-01,  -3.29195601e-01,\n",
       "        -3.27924293e-01,  -3.27608048e-01,  -3.21316463e-01,\n",
       "        -3.17483266e-01,  -3.17246542e-01,  -3.16216081e-01,\n",
       "        -3.13446188e-01,  -3.10684373e-01,  -3.10283518e-01,\n",
       "        -3.09404378e-01,  -3.08668240e-01,  -3.06271749e-01,\n",
       "        -3.04335196e-01,  -2.98735150e-01,  -2.96033211e-01,\n",
       "        -2.94638010e-01,  -2.94317079e-01,  -2.91597471e-01,\n",
       "        -2.90944501e-01,  -2.88967618e-01,  -2.88289043e-01,\n",
       "        -2.86533409e-01,  -2.84749191e-01,  -2.79907138e-01,\n",
       "        -2.79118172e-01,  -2.78091241e-01,  -2.76974112e-01,\n",
       "        -2.65892404e-01,  -2.63533973e-01,  -2.63457681e-01,\n",
       "        -2.57385365e-01,  -2.56107357e-01,  -2.55440452e-01,\n",
       "        -2.49895431e-01,  -2.49687087e-01,  -2.49525582e-01,\n",
       "        -2.47492295e-01,  -2.45044368e-01,  -2.43722709e-01,\n",
       "        -2.41250699e-01,  -2.34893478e-01,  -2.34166891e-01,\n",
       "        -2.33952751e-01,  -2.32413261e-01,  -2.24235513e-01,\n",
       "        -2.23863673e-01,  -2.13455367e-01,  -2.12562859e-01,\n",
       "        -2.08077664e-01,  -2.06819415e-01,  -2.04267049e-01,\n",
       "        -2.04165962e-01,  -1.99031044e-01,  -1.92998662e-01,\n",
       "        -1.92103315e-01,  -1.90690588e-01,  -1.89401116e-01,\n",
       "        -1.87890722e-01,  -1.86693298e-01,  -1.83934349e-01,\n",
       "        -1.81945001e-01,  -1.79800817e-01,  -1.78110825e-01,\n",
       "        -1.76817155e-01,  -1.75653014e-01,  -1.74409106e-01,\n",
       "        -1.71641425e-01,  -1.69784165e-01,  -1.65375193e-01,\n",
       "        -1.64379561e-01,  -1.62628398e-01,  -1.61288152e-01,\n",
       "        -1.60565389e-01,  -1.57763625e-01,  -1.56238893e-01,\n",
       "        -1.51205214e-01,  -1.50598282e-01,  -1.48320155e-01,\n",
       "        -1.47512262e-01,  -1.42769547e-01,  -1.42064810e-01,\n",
       "        -1.40565288e-01,  -1.39585174e-01,  -1.37240788e-01,\n",
       "        -1.31015027e-01,  -1.30559622e-01,  -1.27814714e-01,\n",
       "        -1.21666281e-01,  -1.19171897e-01,  -1.18126335e-01,\n",
       "        -1.17195518e-01,  -1.16826329e-01,  -1.14461566e-01,\n",
       "        -1.13804540e-01,  -1.13601449e-01,  -1.11949372e-01,\n",
       "        -1.11627023e-01,  -1.10097046e-01,  -1.05911590e-01,\n",
       "        -1.05875264e-01,  -1.01107959e-01,  -1.00795670e-01,\n",
       "        -9.55209604e-02,  -8.74906888e-02,  -8.62552753e-02,\n",
       "        -8.10514654e-02,  -7.72933742e-02,  -7.48871229e-02,\n",
       "        -7.45404268e-02,  -7.13033451e-02,  -6.69501809e-02,\n",
       "        -6.53391503e-02,  -6.48559241e-02,  -6.27019328e-02,\n",
       "        -6.19836486e-02,  -5.95329814e-02,  -5.77663906e-02,\n",
       "        -5.38280450e-02,  -5.28596309e-02,  -5.07625498e-02,\n",
       "        -4.87082111e-02,  -4.08382362e-02,  -3.99008613e-02,\n",
       "        -3.84957634e-02,  -3.54395997e-02,  -3.51127199e-02,\n",
       "        -3.20597768e-02,  -3.17886184e-02,  -2.75393848e-02,\n",
       "        -2.59424822e-02,  -2.44123064e-02,  -2.36773941e-02,\n",
       "        -1.98621620e-02,  -1.91530024e-02,  -1.85377115e-02,\n",
       "        -1.60520921e-02,  -1.59218660e-02,  -8.82383464e-03,\n",
       "        -8.45602899e-03,  -7.47296702e-03,  -6.69323063e-03,\n",
       "        -1.98583969e-03,   5.69461071e-03,   7.41875865e-03,\n",
       "         9.15632733e-03,   1.16519465e-02,   1.24855322e-02,\n",
       "         1.34886381e-02,   1.44187254e-02,   1.71746199e-02,\n",
       "         1.78692078e-02,   1.84147191e-02,   2.15946750e-02,\n",
       "         2.22962486e-02,   2.23347641e-02,   2.25800226e-02,\n",
       "         2.46538882e-02,   2.69019121e-02,   2.99637403e-02,\n",
       "         3.59872388e-02,   3.94565652e-02,   4.15173716e-02,\n",
       "         4.19457890e-02,   4.31335318e-02,   4.54531548e-02,\n",
       "         4.65641433e-02,   4.70231458e-02,   4.80798490e-02,\n",
       "         5.37331307e-02,   5.74150618e-02,   6.20278276e-02,\n",
       "         6.23788772e-02,   6.57139608e-02,   6.60945370e-02,\n",
       "         6.64171369e-02,   6.83471428e-02,   7.75910476e-02,\n",
       "         8.27366551e-02,   8.49988607e-02,   9.16066421e-02,\n",
       "         1.01943322e-01,   1.14929025e-01,   1.14972836e-01,\n",
       "         1.17529859e-01,   1.20181513e-01,   1.20459320e-01,\n",
       "         1.23375052e-01,   1.23565574e-01,   1.24216514e-01,\n",
       "         1.27308757e-01,   1.29744408e-01,   1.36012331e-01,\n",
       "         1.36220922e-01,   1.36237855e-01,   1.40205532e-01,\n",
       "         1.40875024e-01,   1.42765686e-01,   1.46629356e-01,\n",
       "         1.54346977e-01,   1.57205168e-01,   1.69268280e-01,\n",
       "         1.73206591e-01,   1.79483582e-01,   1.82170729e-01,\n",
       "         1.90750848e-01,   1.91431415e-01,   1.98999590e-01,\n",
       "         2.01005515e-01,   2.02145334e-01,   2.04235782e-01,\n",
       "         2.04558675e-01,   2.08593406e-01,   2.14101614e-01,\n",
       "         2.14944204e-01,   2.15005105e-01,   2.18110750e-01,\n",
       "         2.23725477e-01,   2.32350832e-01,   2.35465071e-01,\n",
       "         2.36563122e-01,   2.41237709e-01,   2.43521408e-01,\n",
       "         2.46040013e-01,   2.46762732e-01,   2.48687279e-01,\n",
       "         2.54456770e-01,   2.56074109e-01,   2.58593634e-01,\n",
       "         2.61257649e-01,   2.61564676e-01,   2.70289396e-01,\n",
       "         2.74040080e-01,   2.77359405e-01,   2.77866324e-01,\n",
       "         2.79136832e-01,   2.79474708e-01,   2.79506471e-01,\n",
       "         2.81842566e-01,   2.81912695e-01,   2.82455375e-01,\n",
       "         2.87743805e-01,   2.88297281e-01,   2.89058949e-01,\n",
       "         2.89449260e-01,   2.90189868e-01,   2.90323000e-01,\n",
       "         2.94064507e-01,   2.97590885e-01,   2.98708564e-01,\n",
       "         3.02749339e-01,   3.03503297e-01,   3.03506068e-01,\n",
       "         3.05165067e-01,   3.08230616e-01,   3.09815222e-01,\n",
       "         3.11566294e-01,   3.12090928e-01,   3.13306729e-01,\n",
       "         3.17083637e-01,   3.18595473e-01,   3.26517826e-01,\n",
       "         3.39802826e-01,   3.45795631e-01,   3.46314351e-01,\n",
       "         3.48475727e-01,   3.49230902e-01,   3.49304642e-01,\n",
       "         3.50567841e-01,   3.51353874e-01,   3.54629693e-01,\n",
       "         3.58026486e-01,   3.62773756e-01,   3.63161753e-01,\n",
       "         3.64562512e-01,   3.68104509e-01,   3.70399017e-01,\n",
       "         3.71971072e-01,   3.74358826e-01,   3.75723561e-01,\n",
       "         3.81948628e-01,   3.83406060e-01,   3.89260420e-01,\n",
       "         3.91110698e-01,   3.94015348e-01,   3.94165768e-01,\n",
       "         4.06048218e-01,   4.13564511e-01,   4.14449102e-01,\n",
       "         4.17942102e-01,   4.18046168e-01,   4.21471702e-01,\n",
       "         4.25793267e-01,   4.28692800e-01,   4.29075236e-01,\n",
       "         4.29702553e-01,   4.30949812e-01,   4.35579499e-01,\n",
       "         4.36174949e-01,   4.37578929e-01,   4.45148139e-01,\n",
       "         4.46384467e-01,   4.51718057e-01,   4.51792428e-01,\n",
       "         4.55623124e-01,   4.59190071e-01,   4.59511574e-01,\n",
       "         4.59793276e-01,   4.64163703e-01,   4.67713509e-01,\n",
       "         4.70620592e-01,   4.70712423e-01,   4.73905525e-01,\n",
       "         4.75538645e-01,   4.76894560e-01,   4.78113918e-01,\n",
       "         4.79472834e-01,   4.80454738e-01,   4.82730834e-01,\n",
       "         4.87432361e-01,   4.89931322e-01,   4.95726995e-01,\n",
       "         4.98361313e-01,   5.00016641e-01,   5.01081762e-01,\n",
       "         5.06019599e-01,   5.06158362e-01,   5.09326314e-01,\n",
       "         5.09469106e-01,   5.10378651e-01,   5.16567176e-01,\n",
       "         5.20436012e-01,   5.22656521e-01,   5.23815360e-01,\n",
       "         5.25190812e-01,   5.26802602e-01,   5.30234098e-01,\n",
       "         5.36530458e-01,   5.46843396e-01,   5.52527734e-01,\n",
       "         5.52873386e-01,   5.52979113e-01,   5.55281084e-01,\n",
       "         5.55626120e-01,   5.63603201e-01,   5.66759688e-01,\n",
       "         5.74669611e-01,   5.76294305e-01,   5.81295837e-01,\n",
       "         5.81359541e-01,   5.90800453e-01,   5.94836935e-01,\n",
       "         5.99671847e-01,   6.06336353e-01,   6.07466335e-01,\n",
       "         6.10003858e-01,   6.13856143e-01,   6.19943598e-01,\n",
       "         6.19946094e-01,   6.23859921e-01,   6.25433329e-01,\n",
       "         6.28788865e-01,   6.28953408e-01,   6.40805922e-01,\n",
       "         6.52451863e-01,   6.53142451e-01,   6.63698271e-01,\n",
       "         6.67201047e-01,   6.75424437e-01,   6.79430628e-01,\n",
       "         7.00507077e-01,   7.09291365e-01,   7.09572040e-01,\n",
       "         7.12606351e-01,   7.18422787e-01,   7.21747574e-01,\n",
       "         7.24624856e-01,   7.27025541e-01,   7.34076116e-01,\n",
       "         7.35978770e-01,   7.36313053e-01,   7.38364758e-01,\n",
       "         7.41874320e-01,   7.46157822e-01,   7.46515240e-01,\n",
       "         7.51420637e-01,   7.53120807e-01,   7.57388806e-01,\n",
       "         7.58892775e-01,   7.59807228e-01,   7.62586975e-01,\n",
       "         7.64857881e-01,   7.67878507e-01,   7.72091964e-01,\n",
       "         7.72274657e-01,   7.72946684e-01,   7.73299944e-01,\n",
       "         7.75827237e-01,   7.79640517e-01,   7.82256234e-01,\n",
       "         7.86335203e-01,   7.87503552e-01,   7.88067004e-01,\n",
       "         7.89692023e-01,   7.90466297e-01,   7.90747859e-01,\n",
       "         7.99644043e-01,   8.00014426e-01,   8.09286807e-01,\n",
       "         8.10542268e-01,   8.10921173e-01,   8.12278429e-01,\n",
       "         8.13264107e-01,   8.15947729e-01,   8.17476890e-01,\n",
       "         8.26401959e-01,   8.28833817e-01,   8.29107803e-01,\n",
       "         8.29305903e-01,   8.31268870e-01,   8.34631553e-01,\n",
       "         8.38775077e-01,   8.41688502e-01,   8.42142809e-01,\n",
       "         8.45790962e-01,   8.54708241e-01,   8.63057794e-01,\n",
       "         8.63281633e-01,   8.65522116e-01,   8.69248478e-01,\n",
       "         8.75914874e-01,   8.79511911e-01,   8.80852902e-01,\n",
       "         8.83037583e-01,   8.85149089e-01,   8.91189524e-01,\n",
       "         8.92942303e-01,   8.92956899e-01,   8.97330684e-01,\n",
       "         8.97641603e-01,   8.98176174e-01,   8.99898586e-01,\n",
       "         9.03588794e-01,   9.07021658e-01,   9.09733772e-01,\n",
       "         9.11186839e-01,   9.13891189e-01,   9.15387575e-01,\n",
       "         9.17910270e-01,   9.22724690e-01,   9.23247539e-01,\n",
       "         9.33665224e-01,   9.37198565e-01,   9.42937507e-01,\n",
       "         9.43341918e-01,   9.45292903e-01,   9.47324475e-01,\n",
       "         9.59792476e-01,   9.60879524e-01,   9.62877319e-01,\n",
       "         9.67577636e-01,   9.76119080e-01,   9.78852779e-01,\n",
       "         9.83119005e-01,   9.85245923e-01,   9.89536976e-01,\n",
       "         9.92890671e-01,   9.98416951e-01,   1.00070831e+00,\n",
       "         1.00276420e+00,   1.00289694e+00,   1.00632128e+00,\n",
       "         1.00715465e+00,   1.00993120e+00,   1.01137174e+00,\n",
       "         1.01437948e+00,   1.01501295e+00,   1.01543862e+00,\n",
       "         1.02526907e+00,   1.02847003e+00,   1.02950400e+00,\n",
       "         1.03381684e+00,   1.04260371e+00,   1.04287179e+00,\n",
       "         1.04620262e+00,   1.04798322e+00,   1.05358129e+00,\n",
       "         1.06140320e+00,   1.06911495e+00,   1.07347895e+00,\n",
       "         1.07387446e+00,   1.07742506e+00,   1.08506521e+00,\n",
       "         1.08891822e+00,   1.09646733e+00,   1.09709054e+00,\n",
       "         1.09949668e+00,   1.10109133e+00,   1.10353161e+00,\n",
       "         1.10405667e+00,   1.10639014e+00,   1.10642462e+00,\n",
       "         1.10959119e+00,   1.11195998e+00,   1.11986346e+00,\n",
       "         1.12306196e+00,   1.13419003e+00,   1.13429845e+00,\n",
       "         1.14123301e+00,   1.14350644e+00,   1.14998168e+00,\n",
       "         1.15190930e+00,   1.15635676e+00,   1.15953986e+00,\n",
       "         1.16750802e+00,   1.16917056e+00,   1.17959503e+00,\n",
       "         1.18708524e+00,   1.18815546e+00,   1.19038761e+00,\n",
       "         1.19176061e+00,   1.19180211e+00,   1.19756853e+00,\n",
       "         1.20748589e+00,   1.20973491e+00,   1.21527781e+00,\n",
       "         1.21681310e+00,   1.21684744e+00,   1.22056677e+00,\n",
       "         1.22932577e+00,   1.23313160e+00,   1.23755317e+00,\n",
       "         1.24791464e+00,   1.25118731e+00,   1.26169497e+00,\n",
       "         1.26849427e+00,   1.26868238e+00,   1.27008799e+00,\n",
       "         1.28861886e+00,   1.28871458e+00,   1.29636574e+00,\n",
       "         1.30802836e+00,   1.31348025e+00,   1.31487991e+00,\n",
       "         1.31687134e+00,   1.31710685e+00,   1.31840233e+00,\n",
       "         1.31938734e+00,   1.33084213e+00,   1.33294835e+00,\n",
       "         1.33863324e+00,   1.34062799e+00,   1.34514530e+00,\n",
       "         1.35213892e+00,   1.37144703e+00,   1.37343837e+00,\n",
       "         1.38780526e+00,   1.39513857e+00,   1.41677070e+00,\n",
       "         1.43773883e+00,   1.43807020e+00,   1.44511271e+00,\n",
       "         1.44687838e+00,   1.46766990e+00,   1.48876406e+00,\n",
       "         1.48965555e+00,   1.50391629e+00,   1.50793297e+00,\n",
       "         1.51006291e+00,   1.51017979e+00,   1.51701148e+00,\n",
       "         1.52636734e+00,   1.54625603e+00,   1.55780586e+00,\n",
       "         1.56307699e+00,   1.57106726e+00,   1.57952293e+00,\n",
       "         1.58272318e+00,   1.58838669e+00,   1.58854083e+00,\n",
       "         1.59549442e+00,   1.61706851e+00,   1.61933994e+00,\n",
       "         1.61983960e+00,   1.62889751e+00,   1.63993400e+00,\n",
       "         1.64895614e+00,   1.68006344e+00,   1.68079041e+00,\n",
       "         1.70648863e+00,   1.71612620e+00,   1.71739087e+00,\n",
       "         1.74609442e+00,   1.75744137e+00,   1.78589685e+00,\n",
       "         1.78653310e+00,   1.79247230e+00,   1.80608839e+00,\n",
       "         1.85926680e+00,   1.87070534e+00,   1.87331892e+00,\n",
       "         1.87459377e+00,   1.88836928e+00,   1.89322644e+00,\n",
       "         1.90198671e+00,   1.90818233e+00,   1.92363696e+00,\n",
       "         1.97233874e+00,   2.06273398e+00,   2.10601144e+00,\n",
       "         2.11654870e+00,   2.13147228e+00,   2.13823848e+00,\n",
       "         2.14371362e+00,   2.16694811e+00,   2.19451309e+00,\n",
       "         2.20568275e+00,   2.21015045e+00,   2.21499601e+00,\n",
       "         2.23244628e+00,   2.24270904e+00,   2.24846271e+00,\n",
       "         2.28332445e+00,   2.30207162e+00,   2.34008867e+00,\n",
       "         2.34600700e+00,   2.40763744e+00,   2.41162457e+00,\n",
       "         2.45491880e+00,   2.55201194e+00,   2.76050843e+00,\n",
       "         3.07606498e+00])"
      ]
     },
     "execution_count": 99,
     "metadata": {},
     "output_type": "execute_result"
    }
   ],
   "source": [
    "large_arr"
   ]
  },
  {
   "cell_type": "code",
   "execution_count": 100,
   "metadata": {},
   "outputs": [
    {
     "data": {
      "text/plain": [
       "-1.6146121990042104"
      ]
     },
     "execution_count": 100,
     "metadata": {},
     "output_type": "execute_result"
    }
   ],
   "source": [
    "large_arr[int(0.05*len(large_arr))]"
   ]
  },
  {
   "cell_type": "code",
   "execution_count": 101,
   "metadata": {
    "collapsed": true
   },
   "outputs": [],
   "source": [
    "names = np.array(['Bob', 'Joe', 'Will', 'Bob', 'Will', 'Joe', 'Joe'])\n"
   ]
  },
  {
   "cell_type": "code",
   "execution_count": 102,
   "metadata": {},
   "outputs": [
    {
     "data": {
      "text/plain": [
       "array(['Bob', 'Joe', 'Will'], \n",
       "      dtype='<U4')"
      ]
     },
     "execution_count": 102,
     "metadata": {},
     "output_type": "execute_result"
    }
   ],
   "source": [
    "np.unique(names)"
   ]
  },
  {
   "cell_type": "code",
   "execution_count": 103,
   "metadata": {
    "collapsed": true
   },
   "outputs": [],
   "source": [
    "ints = np.array([3, 3, 3, 2, 2, 1, 1, 4, 4])"
   ]
  },
  {
   "cell_type": "code",
   "execution_count": 104,
   "metadata": {},
   "outputs": [
    {
     "data": {
      "text/plain": [
       "array([1, 2, 3, 4])"
      ]
     },
     "execution_count": 104,
     "metadata": {},
     "output_type": "execute_result"
    }
   ],
   "source": [
    "np.unique(ints)"
   ]
  },
  {
   "cell_type": "code",
   "execution_count": 105,
   "metadata": {
    "collapsed": true
   },
   "outputs": [],
   "source": [
    "values = np.array([6, 0, 0, 3, 2, 5, 6])"
   ]
  },
  {
   "cell_type": "code",
   "execution_count": 106,
   "metadata": {},
   "outputs": [
    {
     "data": {
      "text/plain": [
       "array([ True, False, False,  True,  True, False,  True], dtype=bool)"
      ]
     },
     "execution_count": 106,
     "metadata": {},
     "output_type": "execute_result"
    }
   ],
   "source": [
    "np.in1d(values, [2, 3, 6])"
   ]
  },
  {
   "cell_type": "markdown",
   "metadata": {},
   "source": [
    "# Linear Algebra"
   ]
  },
  {
   "cell_type": "code",
   "execution_count": 107,
   "metadata": {
    "collapsed": true
   },
   "outputs": [],
   "source": [
    "x = np.array([[1., 2., 3. ], [4., 5., 6. ]])"
   ]
  },
  {
   "cell_type": "code",
   "execution_count": 108,
   "metadata": {
    "collapsed": true
   },
   "outputs": [],
   "source": [
    "y = np.array([[6., 23.], [-1, 7], [8, 9]])"
   ]
  },
  {
   "cell_type": "code",
   "execution_count": 109,
   "metadata": {},
   "outputs": [
    {
     "data": {
      "text/plain": [
       "array([[ 1.,  2.,  3.],\n",
       "       [ 4.,  5.,  6.]])"
      ]
     },
     "execution_count": 109,
     "metadata": {},
     "output_type": "execute_result"
    }
   ],
   "source": [
    "x"
   ]
  },
  {
   "cell_type": "code",
   "execution_count": 110,
   "metadata": {},
   "outputs": [
    {
     "data": {
      "text/plain": [
       "array([[  6.,  23.],\n",
       "       [ -1.,   7.],\n",
       "       [  8.,   9.]])"
      ]
     },
     "execution_count": 110,
     "metadata": {},
     "output_type": "execute_result"
    }
   ],
   "source": [
    "y"
   ]
  },
  {
   "cell_type": "code",
   "execution_count": 111,
   "metadata": {},
   "outputs": [
    {
     "data": {
      "text/plain": [
       "array([[  28.,   64.],\n",
       "       [  67.,  181.]])"
      ]
     },
     "execution_count": 111,
     "metadata": {},
     "output_type": "execute_result"
    }
   ],
   "source": [
    "x.dot(y)"
   ]
  },
  {
   "cell_type": "code",
   "execution_count": 112,
   "metadata": {
    "collapsed": true
   },
   "outputs": [],
   "source": [
    "from numpy.linalg import inv, qr"
   ]
  },
  {
   "cell_type": "code",
   "execution_count": 113,
   "metadata": {
    "collapsed": true
   },
   "outputs": [],
   "source": [
    "X = np.random.randn(5, 5)"
   ]
  },
  {
   "cell_type": "code",
   "execution_count": 115,
   "metadata": {},
   "outputs": [
    {
     "data": {
      "text/plain": [
       "array([[ 0.34965662, -0.38208952,  0.53561103, -0.2767617 ,  0.60804902],\n",
       "       [ 1.9975616 ,  0.25560608, -0.4314584 ,  0.10657689, -0.21932176],\n",
       "       [-2.24714969,  0.43456212, -0.94526254, -0.45363361,  0.09430062],\n",
       "       [ 0.27310386, -0.04623421,  0.35321519, -0.78603074, -1.32493159],\n",
       "       [-0.47202224,  1.12462221, -0.56915947, -1.23900717,  1.06442141]])"
      ]
     },
     "execution_count": 115,
     "metadata": {},
     "output_type": "execute_result"
    }
   ],
   "source": [
    "X"
   ]
  },
  {
   "cell_type": "code",
   "execution_count": 117,
   "metadata": {},
   "outputs": [],
   "source": [
    "mat =  X.T.dot(X)"
   ]
  },
  {
   "cell_type": "code",
   "execution_count": 118,
   "metadata": {},
   "outputs": [
    {
     "data": {
      "text/plain": [
       "array([[ 9.45958453, -1.1430108 ,  1.81468198,  1.50567588, -1.30168248],\n",
       "       [-1.1430108 ,  1.66708381, -1.38213004, -1.421216  ,  1.01091947],\n",
       "       [ 1.81468198, -1.38213004,  1.81526026,  0.6621374 , -0.74264434],\n",
       "       [ 1.50567588, -1.421216  ,  0.6621374 ,  2.4467222 , -0.51182605],\n",
       "       [-1.30168248,  1.01091947, -0.74264434, -0.51182605,  3.31515489]])"
      ]
     },
     "execution_count": 118,
     "metadata": {},
     "output_type": "execute_result"
    }
   ],
   "source": [
    "mat"
   ]
  },
  {
   "cell_type": "code",
   "execution_count": 119,
   "metadata": {},
   "outputs": [
    {
     "data": {
      "text/plain": [
       "array([[ 9.45958453, -1.1430108 ,  1.81468198,  1.50567588, -1.30168248],\n",
       "       [-1.1430108 ,  1.66708381, -1.38213004, -1.421216  ,  1.01091947],\n",
       "       [ 1.81468198, -1.38213004,  1.81526026,  0.6621374 , -0.74264434],\n",
       "       [ 1.50567588, -1.421216  ,  0.6621374 ,  2.4467222 , -0.51182605],\n",
       "       [-1.30168248,  1.01091947, -0.74264434, -0.51182605,  3.31515489]])"
      ]
     },
     "execution_count": 119,
     "metadata": {},
     "output_type": "execute_result"
    }
   ],
   "source": [
    "mat"
   ]
  },
  {
   "cell_type": "code",
   "execution_count": 120,
   "metadata": {
    "collapsed": true
   },
   "outputs": [],
   "source": [
    "q, r = qr(mat)"
   ]
  },
  {
   "cell_type": "code",
   "execution_count": 121,
   "metadata": {},
   "outputs": [
    {
     "data": {
      "text/plain": [
       "array([[-0.95534438, -0.28175556,  0.02309135, -0.00647019,  0.08576619],\n",
       "       [ 0.11543519, -0.61921715,  0.05158126, -0.09334953, -0.76933093],\n",
       "       [-0.18326875,  0.44278775, -0.74187312, -0.23669565, -0.40490866],\n",
       "       [-0.15206154,  0.48464389,  0.64824259, -0.47378241, -0.31194447],\n",
       "       [ 0.1314598 , -0.32594974, -0.16190113, -0.84305955,  0.37351534]])"
      ]
     },
     "execution_count": 121,
     "metadata": {},
     "output_type": "execute_result"
    }
   ],
   "source": [
    "q"
   ]
  },
  {
   "cell_type": "code",
   "execution_count": 122,
   "metadata": {},
   "outputs": [
    {
     "data": {
      "text/plain": [
       "array([[-9.90175343,  1.88671789, -2.42418667, -2.16318332,  2.00999287],\n",
       "       [ 0.        , -2.34052008,  1.71128247,  2.10161364, -1.91668346],\n",
       "       [ 0.        ,  0.        , -0.82662071,  1.1391728 , -0.29547999],\n",
       "       [ 0.        ,  0.        ,  0.        , -0.76151131, -2.46254485],\n",
       "       [ 0.        ,  0.        ,  0.        ,  0.        ,  0.80925368]])"
      ]
     },
     "execution_count": 122,
     "metadata": {},
     "output_type": "execute_result"
    }
   ],
   "source": [
    "r"
   ]
  },
  {
   "cell_type": "code",
   "execution_count": 130,
   "metadata": {},
   "outputs": [
    {
     "data": {
      "text/plain": [
       "1"
      ]
     },
     "execution_count": 130,
     "metadata": {},
     "output_type": "execute_result"
    }
   ],
   "source": [
    "import random\n",
    "random.randint(0,1)"
   ]
  },
  {
   "cell_type": "code",
   "execution_count": 134,
   "metadata": {},
   "outputs": [],
   "source": [
    "import random\n",
    "\n",
    "\n",
    "position = 0 \n",
    "walk = [position]\n",
    "step = 1000\n",
    "for i in range(steps):\n",
    "    setp = 1 if random.randint(0, 1) else -1\n",
    "    position += step\n",
    "    walk.append(position)\n",
    "    "
   ]
  },
  {
   "cell_type": "code",
   "execution_count": 138,
   "metadata": {
    "scrolled": true
   },
   "outputs": [
    {
     "data": {
      "text/plain": [
       "array([0, 0, 0, 0, 0, 1, 1, 1, 0, 1, 1, 0, 0, 0, 0, 1, 1, 1, 0, 1, 1, 1, 1,\n",
       "       0, 1, 1, 1, 1, 1, 0, 0, 1, 0, 1, 1, 0, 0, 0, 1, 0, 0, 1, 1, 1, 1, 1,\n",
       "       0, 1, 1, 1, 0, 1, 0, 0, 0, 0, 0, 0, 0, 1, 0, 0, 1, 0, 0, 0, 0, 0, 1,\n",
       "       1, 1, 0, 0, 1, 0, 0, 0, 1, 0, 0, 1, 0, 0, 0, 0, 0, 0, 0, 1, 1, 1, 0,\n",
       "       0, 0, 1, 1, 1, 0, 0, 0, 0, 1, 1, 0, 1, 0, 0, 1, 1, 1, 1, 1, 1, 1, 0,\n",
       "       0, 1, 0, 1, 0, 0, 0, 0, 1, 0, 1, 0, 1, 0, 1, 1, 0, 1, 0, 1, 1, 0, 1,\n",
       "       1, 0, 0, 0, 1, 1, 0, 1, 0, 1, 0, 0, 0, 0, 0, 1, 1, 0, 1, 1, 0, 0, 0,\n",
       "       1, 0, 1, 1, 0, 0, 0, 1, 0, 0, 1, 0, 0, 1, 0, 0, 0, 1, 1, 0, 0, 0, 0,\n",
       "       0, 0, 1, 0, 1, 0, 0, 1, 1, 0, 0, 1, 0, 0, 0, 1, 1, 0, 0, 0, 0, 1, 1,\n",
       "       0, 0, 0, 1, 0, 1, 0, 0, 0, 1, 1, 0, 0, 0, 0, 0, 1, 1, 0, 0, 0, 1, 0,\n",
       "       0, 1, 0, 0, 0, 0, 0, 0, 0, 1, 0, 0, 0, 0, 0, 1, 1, 0, 1, 0, 1, 0, 0,\n",
       "       1, 1, 1, 0, 0, 0, 1, 1, 1, 1, 0, 0, 0, 1, 1, 0, 1, 1, 1, 0, 0, 0, 1,\n",
       "       1, 0, 1, 1, 0, 1, 1, 1, 0, 1, 0, 1, 1, 1, 0, 0, 0, 1, 0, 1, 1, 1, 1,\n",
       "       0, 0, 0, 1, 0, 0, 1, 0, 1, 1, 1, 1, 0, 0, 0, 0, 0, 1, 0, 1, 0, 0, 1,\n",
       "       0, 0, 0, 0, 1, 0, 1, 0, 1, 0, 0, 1, 0, 1, 1, 0, 1, 1, 1, 0, 0, 1, 1,\n",
       "       0, 1, 1, 0, 1, 1, 1, 0, 1, 0, 1, 0, 1, 1, 0, 1, 0, 1, 1, 1, 1, 1, 1,\n",
       "       1, 0, 1, 0, 1, 0, 1, 0, 0, 1, 0, 0, 0, 1, 1, 0, 0, 0, 1, 1, 1, 1, 1,\n",
       "       0, 0, 0, 1, 1, 1, 1, 0, 1, 1, 1, 1, 1, 1, 1, 0, 1, 0, 1, 0, 0, 1, 1,\n",
       "       1, 0, 0, 0, 0, 1, 1, 1, 0, 0, 0, 1, 1, 0, 0, 0, 0, 1, 1, 1, 1, 1, 0,\n",
       "       1, 0, 1, 0, 1, 0, 0, 1, 1, 0, 0, 1, 0, 1, 0, 1, 1, 0, 1, 0, 1, 1, 0,\n",
       "       1, 1, 0, 0, 1, 1, 0, 0, 1, 0, 1, 0, 1, 0, 0, 0, 0, 1, 1, 0, 1, 1, 0,\n",
       "       0, 1, 1, 1, 0, 0, 0, 1, 0, 0, 0, 1, 1, 1, 1, 1, 0, 1, 0, 0, 0, 1, 1,\n",
       "       1, 1, 0, 0, 0, 1, 1, 1, 1, 1, 0, 1, 1, 1, 1, 1, 0, 1, 0, 1, 1, 1, 1,\n",
       "       1, 0, 0, 1, 0, 0, 0, 1, 1, 1, 0, 1, 1, 0, 0, 0, 1, 1, 1, 1, 0, 0, 0,\n",
       "       0, 0, 1, 1, 0, 0, 1, 1, 1, 1, 0, 1, 1, 0, 0, 1, 0, 1, 0, 0, 1, 1, 1,\n",
       "       1, 1, 1, 1, 1, 0, 1, 0, 1, 0, 1, 1, 0, 1, 1, 1, 1, 0, 0, 1, 1, 1, 1,\n",
       "       0, 1, 0, 0, 0, 1, 0, 0, 1, 1, 0, 1, 0, 1, 1, 1, 1, 0, 1, 1, 0, 0, 1,\n",
       "       1, 0, 1, 1, 0, 1, 1, 1, 1, 0, 1, 0, 0, 0, 0, 0, 0, 1, 1, 0, 1, 1, 0,\n",
       "       1, 0, 1, 1, 0, 0, 0, 0, 1, 1, 1, 1, 1, 0, 1, 1, 0, 0, 1, 0, 1, 1, 1,\n",
       "       0, 1, 0, 1, 0, 1, 0, 1, 1, 1, 1, 0, 0, 0, 0, 0, 0, 1, 0, 0, 0, 0, 1,\n",
       "       0, 0, 0, 0, 0, 1, 1, 1, 0, 0, 1, 1, 0, 0, 1, 1, 1, 0, 0, 1, 0, 0, 0,\n",
       "       1, 0, 0, 0, 1, 0, 1, 1, 0, 1, 0, 1, 0, 0, 1, 1, 0, 1, 1, 0, 1, 1, 1,\n",
       "       0, 1, 0, 1, 1, 1, 1, 1, 0, 1, 0, 0, 1, 1, 1, 0, 1, 1, 1, 1, 0, 1, 0,\n",
       "       1, 1, 0, 0, 0, 1, 0, 1, 0, 1, 0, 1, 0, 1, 1, 0, 1, 0, 0, 0, 1, 0, 1,\n",
       "       1, 0, 0, 1, 1, 0, 1, 1, 1, 1, 1, 1, 1, 1, 0, 0, 1, 1, 1, 1, 1, 1, 0,\n",
       "       0, 0, 0, 0, 0, 1, 0, 1, 1, 1, 1, 0, 0, 0, 1, 1, 1, 1, 1, 0, 1, 0, 0,\n",
       "       0, 0, 1, 0, 1, 0, 1, 1, 0, 0, 0, 1, 1, 0, 1, 1, 1, 0, 0, 1, 1, 0, 0,\n",
       "       1, 1, 1, 1, 1, 1, 1, 0, 0, 1, 0, 1, 1, 0, 1, 1, 0, 0, 0, 1, 1, 1, 1,\n",
       "       0, 0, 0, 0, 1, 1, 0, 1, 0, 1, 1, 1, 1, 0, 0, 1, 0, 1, 1, 1, 1, 1, 1,\n",
       "       0, 0, 1, 1, 0, 0, 1, 0, 1, 0, 0, 0, 0, 0, 0, 0, 1, 0, 0, 1, 1, 1, 0,\n",
       "       0, 1, 1, 1, 1, 1, 0, 0, 1, 0, 1, 0, 1, 0, 1, 0, 0, 0, 1, 0, 1, 0, 1,\n",
       "       0, 1, 0, 0, 1, 0, 0, 1, 0, 1, 1, 0, 1, 0, 1, 1, 1, 1, 1, 1, 1, 0, 1,\n",
       "       1, 0, 0, 0, 0, 1, 0, 1, 0, 0, 1, 0, 1, 1, 1, 0, 1, 1, 1, 1, 0, 0, 0,\n",
       "       0, 1, 0, 1, 1, 1, 0, 1, 0, 1, 1])"
      ]
     },
     "execution_count": 138,
     "metadata": {},
     "output_type": "execute_result"
    }
   ],
   "source": [
    "np.random.randint(0, 2, size=nsteps)"
   ]
  },
  {
   "cell_type": "code",
   "execution_count": 136,
   "metadata": {
    "collapsed": true
   },
   "outputs": [],
   "source": [
    "nsteps = 1000\n",
    "draws = np.random.randint(0, 2, size=nsteps)\n",
    "steps = np.where(draws>0, 1, -2)\n",
    "walk = steps.cumsum()"
   ]
  },
  {
   "cell_type": "code",
   "execution_count": 137,
   "metadata": {},
   "outputs": [
    {
     "data": {
      "text/plain": [
       "array([  -2,   -4,   -3,   -5,   -7,   -9,  -11,  -13,  -15,  -17,  -19,\n",
       "        -18,  -20,  -22,  -21,  -23,  -22,  -24,  -26,  -25,  -27,  -26,\n",
       "        -28,  -30,  -32,  -31,  -30,  -32,  -34,  -36,  -38,  -40,  -39,\n",
       "        -38,  -40,  -42,  -44,  -43,  -42,  -44,  -46,  -48,  -50,  -49,\n",
       "        -48,  -47,  -46,  -45,  -44,  -43,  -42,  -41,  -40,  -42,  -41,\n",
       "        -40,  -39,  -41,  -40,  -39,  -41,  -40,  -42,  -44,  -43,  -45,\n",
       "        -47,  -49,  -48,  -50,  -52,  -51,  -50,  -52,  -54,  -56,  -55,\n",
       "        -54,  -53,  -55,  -54,  -53,  -52,  -54,  -56,  -55,  -57,  -59,\n",
       "        -61,  -63,  -65,  -64,  -66,  -65,  -64,  -66,  -68,  -70,  -69,\n",
       "        -71,  -70,  -69,  -68,  -70,  -69,  -68,  -70,  -72,  -74,  -73,\n",
       "        -75,  -77,  -76,  -75,  -77,  -79,  -81,  -83,  -85,  -87,  -86,\n",
       "        -88,  -87,  -89,  -91,  -90,  -89,  -91,  -90,  -89,  -88,  -90,\n",
       "        -92,  -91,  -93,  -92,  -91,  -90,  -89,  -91,  -93,  -92,  -94,\n",
       "        -96,  -95,  -97,  -96,  -98,  -97,  -99, -101, -100,  -99, -101,\n",
       "       -100,  -99,  -98,  -97,  -99, -101, -100, -102, -101, -103, -105,\n",
       "       -107, -106, -108, -107, -109, -108, -110, -109, -108, -110, -109,\n",
       "       -108, -107, -109, -108, -110, -112, -111, -110, -112, -114, -116,\n",
       "       -118, -117, -119, -118, -117, -116, -115, -114, -116, -118, -120,\n",
       "       -122, -124, -126, -128, -127, -129, -128, -127, -129, -131, -130,\n",
       "       -129, -128, -130, -129, -128, -127, -126, -125, -127, -129, -128,\n",
       "       -130, -129, -128, -130, -132, -134, -136, -135, -134, -133, -135,\n",
       "       -134, -136, -135, -137, -136, -138, -140, -142, -144, -143, -142,\n",
       "       -144, -146, -148, -147, -149, -151, -153, -152, -151, -150, -149,\n",
       "       -151, -150, -152, -151, -153, -155, -157, -159, -158, -157, -159,\n",
       "       -158, -157, -159, -161, -160, -162, -164, -163, -165, -167, -169,\n",
       "       -171, -173, -175, -174, -173, -175, -174, -173, -172, -171, -170,\n",
       "       -172, -174, -173, -172, -174, -176, -178, -177, -176, -175, -177,\n",
       "       -176, -178, -180, -179, -178, -177, -176, -178, -180, -179, -181,\n",
       "       -183, -182, -184, -183, -185, -187, -189, -188, -187, -189, -191,\n",
       "       -193, -192, -191, -190, -189, -188, -190, -189, -188, -190, -192,\n",
       "       -191, -190, -192, -191, -190, -192, -194, -196, -198, -197, -196,\n",
       "       -198, -200, -202, -201, -200, -199, -201, -200, -199, -198, -200,\n",
       "       -202, -201, -203, -205, -207, -209, -211, -213, -212, -214, -213,\n",
       "       -215, -217, -219, -221, -223, -222, -224, -226, -225, -224, -223,\n",
       "       -225, -227, -229, -231, -230, -232, -234, -236, -238, -237, -236,\n",
       "       -235, -234, -236, -235, -234, -233, -235, -237, -239, -241, -240,\n",
       "       -242, -244, -243, -245, -244, -243, -245, -244, -246, -248, -250,\n",
       "       -252, -251, -253, -252, -254, -253, -255, -254, -256, -255, -254,\n",
       "       -253, -252, -251, -250, -252, -254, -256, -255, -254, -253, -255,\n",
       "       -257, -259, -258, -257, -259, -261, -260, -259, -258, -260, -259,\n",
       "       -261, -260, -259, -258, -257, -259, -258, -257, -259, -261, -260,\n",
       "       -262, -261, -260, -259, -261, -263, -262, -261, -260, -259, -261,\n",
       "       -263, -262, -261, -263, -262, -261, -263, -265, -264, -263, -262,\n",
       "       -264, -263, -265, -267, -269, -271, -270, -269, -268, -267, -269,\n",
       "       -271, -270, -272, -274, -273, -275, -274, -273, -272, -271, -273,\n",
       "       -272, -271, -270, -272, -274, -276, -275, -274, -273, -272, -271,\n",
       "       -270, -269, -271, -270, -269, -271, -273, -275, -277, -279, -278,\n",
       "       -277, -279, -281, -280, -282, -284, -283, -285, -287, -289, -291,\n",
       "       -290, -292, -291, -293, -295, -294, -293, -295, -297, -296, -298,\n",
       "       -300, -299, -301, -300, -302, -301, -300, -299, -301, -300, -299,\n",
       "       -301, -300, -299, -298, -297, -299, -298, -300, -299, -298, -297,\n",
       "       -299, -298, -297, -299, -298, -297, -299, -298, -297, -299, -301,\n",
       "       -300, -302, -301, -303, -302, -304, -303, -302, -301, -303, -302,\n",
       "       -301, -300, -302, -304, -303, -305, -304, -303, -302, -304, -303,\n",
       "       -302, -304, -306, -305, -304, -303, -302, -304, -306, -305, -304,\n",
       "       -306, -305, -307, -309, -308, -310, -309, -311, -310, -309, -308,\n",
       "       -310, -309, -308, -307, -309, -308, -307, -309, -308, -310, -309,\n",
       "       -311, -310, -309, -308, -310, -312, -311, -310, -312, -314, -316,\n",
       "       -318, -320, -322, -321, -323, -325, -327, -329, -328, -330, -329,\n",
       "       -331, -330, -329, -328, -330, -329, -331, -330, -332, -331, -330,\n",
       "       -329, -328, -327, -329, -328, -330, -329, -328, -327, -326, -328,\n",
       "       -327, -329, -331, -333, -335, -337, -339, -338, -340, -339, -341,\n",
       "       -340, -342, -341, -340, -339, -341, -343, -342, -344, -343, -342,\n",
       "       -344, -346, -348, -350, -349, -351, -353, -355, -354, -356, -358,\n",
       "       -360, -362, -361, -360, -362, -361, -363, -362, -361, -360, -362,\n",
       "       -364, -366, -365, -367, -369, -368, -370, -369, -371, -373, -375,\n",
       "       -377, -379, -381, -383, -385, -387, -386, -388, -387, -389, -388,\n",
       "       -390, -392, -394, -393, -395, -397, -396, -395, -394, -393, -392,\n",
       "       -391, -393, -392, -391, -390, -389, -391, -393, -395, -397, -399,\n",
       "       -398, -400, -399, -398, -397, -399, -401, -403, -402, -401, -400,\n",
       "       -399, -398, -400, -402, -401, -400, -399, -401, -400, -399, -398,\n",
       "       -400, -402, -401, -400, -402, -404, -406, -408, -410, -409, -411,\n",
       "       -413, -415, -417, -419, -418, -420, -422, -421, -420, -422, -421,\n",
       "       -423, -422, -424, -426, -425, -427, -429, -431, -430, -432, -434,\n",
       "       -433, -435, -434, -436, -435, -437, -439, -438, -440, -439, -438,\n",
       "       -437, -436, -438, -440, -439, -441, -443, -442, -444, -446, -445,\n",
       "       -447, -446, -445, -444, -446, -445, -447, -449, -448, -450, -452,\n",
       "       -454, -453, -452, -454, -453, -455, -454, -453, -455, -454, -456,\n",
       "       -458, -460, -459, -458, -457, -456, -458, -457, -456, -455, -454,\n",
       "       -453, -455, -457, -459, -458, -460, -462, -464, -463, -462, -464,\n",
       "       -466, -465, -467, -466, -468, -470, -472, -474, -473, -472, -474,\n",
       "       -476, -475, -477, -479, -481, -483, -482, -484, -486, -488, -487,\n",
       "       -489, -488, -490, -489, -488, -490, -489, -488, -487, -486, -485,\n",
       "       -484, -483, -482, -484, -483, -482, -481, -480, -482, -481, -483,\n",
       "       -482, -481, -483, -482, -481, -483, -482, -481, -483, -485, -484,\n",
       "       -486, -485, -487, -489, -488, -490, -489, -488, -490, -489, -491,\n",
       "       -490, -489, -491, -490, -492, -491, -490, -492, -494, -496, -495,\n",
       "       -497, -496, -495, -494, -493, -495, -497, -496, -498, -500, -502,\n",
       "       -501, -500, -502, -504, -503, -502, -504, -503, -505, -507, -509,\n",
       "       -511, -510, -512, -514, -513, -512, -511, -513, -512, -511, -510,\n",
       "       -509, -508, -507, -506, -508, -507, -506, -508, -507, -506])"
      ]
     },
     "execution_count": 137,
     "metadata": {},
     "output_type": "execute_result"
    }
   ],
   "source": [
    "walk"
   ]
  },
  {
   "cell_type": "code",
   "execution_count": 139,
   "metadata": {},
   "outputs": [
    {
     "data": {
      "text/plain": [
       "-514"
      ]
     },
     "execution_count": 139,
     "metadata": {},
     "output_type": "execute_result"
    }
   ],
   "source": [
    "walk.min()"
   ]
  },
  {
   "cell_type": "code",
   "execution_count": 140,
   "metadata": {},
   "outputs": [
    {
     "data": {
      "text/plain": [
       "-2"
      ]
     },
     "execution_count": 140,
     "metadata": {},
     "output_type": "execute_result"
    }
   ],
   "source": [
    "walk.max()"
   ]
  },
  {
   "cell_type": "code",
   "execution_count": 143,
   "metadata": {},
   "outputs": [
    {
     "data": {
      "text/plain": [
       "array([  -2,   -4,   -3,   -5,   -7,   -9,  -11,  -13,  -15,  -17,  -19,\n",
       "        -18,  -20,  -22,  -21,  -23,  -22,  -24,  -26,  -25,  -27,  -26,\n",
       "        -28,  -30,  -32,  -31,  -30,  -32,  -34,  -36,  -38,  -40,  -39,\n",
       "        -38,  -40,  -42,  -44,  -43,  -42,  -44,  -46,  -48,  -50,  -49,\n",
       "        -48,  -47,  -46,  -45,  -44,  -43,  -42,  -41,  -40,  -42,  -41,\n",
       "        -40,  -39,  -41,  -40,  -39,  -41,  -40,  -42,  -44,  -43,  -45,\n",
       "        -47,  -49,  -48,  -50,  -52,  -51,  -50,  -52,  -54,  -56,  -55,\n",
       "        -54,  -53,  -55,  -54,  -53,  -52,  -54,  -56,  -55,  -57,  -59,\n",
       "        -61,  -63,  -65,  -64,  -66,  -65,  -64,  -66,  -68,  -70,  -69,\n",
       "        -71,  -70,  -69,  -68,  -70,  -69,  -68,  -70,  -72,  -74,  -73,\n",
       "        -75,  -77,  -76,  -75,  -77,  -79,  -81,  -83,  -85,  -87,  -86,\n",
       "        -88,  -87,  -89,  -91,  -90,  -89,  -91,  -90,  -89,  -88,  -90,\n",
       "        -92,  -91,  -93,  -92,  -91,  -90,  -89,  -91,  -93,  -92,  -94,\n",
       "        -96,  -95,  -97,  -96,  -98,  -97,  -99, -101, -100,  -99, -101,\n",
       "       -100,  -99,  -98,  -97,  -99, -101, -100, -102, -101, -103, -105,\n",
       "       -107, -106, -108, -107, -109, -108, -110, -109, -108, -110, -109,\n",
       "       -108, -107, -109, -108, -110, -112, -111, -110, -112, -114, -116,\n",
       "       -118, -117, -119, -118, -117, -116, -115, -114, -116, -118, -120,\n",
       "       -122, -124, -126, -128, -127, -129, -128, -127, -129, -131, -130,\n",
       "       -129, -128, -130, -129, -128, -127, -126, -125, -127, -129, -128,\n",
       "       -130, -129, -128, -130, -132, -134, -136, -135, -134, -133, -135,\n",
       "       -134, -136, -135, -137, -136, -138, -140, -142, -144, -143, -142,\n",
       "       -144, -146, -148, -147, -149, -151, -153, -152, -151, -150, -149,\n",
       "       -151, -150, -152, -151, -153, -155, -157, -159, -158, -157, -159,\n",
       "       -158, -157, -159, -161, -160, -162, -164, -163, -165, -167, -169,\n",
       "       -171, -173, -175, -174, -173, -175, -174, -173, -172, -171, -170,\n",
       "       -172, -174, -173, -172, -174, -176, -178, -177, -176, -175, -177,\n",
       "       -176, -178, -180, -179, -178, -177, -176, -178, -180, -179, -181,\n",
       "       -183, -182, -184, -183, -185, -187, -189, -188, -187, -189, -191,\n",
       "       -193, -192, -191, -190, -189, -188, -190, -189, -188, -190, -192,\n",
       "       -191, -190, -192, -191, -190, -192, -194, -196, -198, -197, -196,\n",
       "       -198, -200, -202, -201, -200, -199, -201, -200, -199, -198, -200,\n",
       "       -202, -201, -203, -205, -207, -209, -211, -213, -212, -214, -213,\n",
       "       -215, -217, -219, -221, -223, -222, -224, -226, -225, -224, -223,\n",
       "       -225, -227, -229, -231, -230, -232, -234, -236, -238, -237, -236,\n",
       "       -235, -234, -236, -235, -234, -233, -235, -237, -239, -241, -240,\n",
       "       -242, -244, -243, -245, -244, -243, -245, -244, -246, -248, -250,\n",
       "       -252, -251, -253, -252, -254, -253, -255, -254, -256, -255, -254,\n",
       "       -253, -252, -251, -250, -252, -254, -256, -255, -254, -253, -255,\n",
       "       -257, -259, -258, -257, -259, -261, -260, -259, -258, -260, -259,\n",
       "       -261, -260, -259, -258, -257, -259, -258, -257, -259, -261, -260,\n",
       "       -262, -261, -260, -259, -261, -263, -262, -261, -260, -259, -261,\n",
       "       -263, -262, -261, -263, -262, -261, -263, -265, -264, -263, -262,\n",
       "       -264, -263, -265, -267, -269, -271, -270, -269, -268, -267, -269,\n",
       "       -271, -270, -272, -274, -273, -275, -274, -273, -272, -271, -273,\n",
       "       -272, -271, -270, -272, -274, -276, -275, -274, -273, -272, -271,\n",
       "       -270, -269, -271, -270, -269, -271, -273, -275, -277, -279, -278,\n",
       "       -277, -279, -281, -280, -282, -284, -283, -285, -287, -289, -291,\n",
       "       -290, -292, -291, -293, -295, -294, -293, -295, -297, -296, -298,\n",
       "       -300, -299, -301, -300, -302, -301, -300, -299, -301, -300, -299,\n",
       "       -301, -300, -299, -298, -297, -299, -298, -300, -299, -298, -297,\n",
       "       -299, -298, -297, -299, -298, -297, -299, -298, -297, -299, -301,\n",
       "       -300, -302, -301, -303, -302, -304, -303, -302, -301, -303, -302,\n",
       "       -301, -300, -302, -304, -303, -305, -304, -303, -302, -304, -303,\n",
       "       -302, -304, -306, -305, -304, -303, -302, -304, -306, -305, -304,\n",
       "       -306, -305, -307, -309, -308, -310, -309, -311, -310, -309, -308,\n",
       "       -310, -309, -308, -307, -309, -308, -307, -309, -308, -310, -309,\n",
       "       -311, -310, -309, -308, -310, -312, -311, -310, -312, -314, -316,\n",
       "       -318, -320, -322, -321, -323, -325, -327, -329, -328, -330, -329,\n",
       "       -331, -330, -329, -328, -330, -329, -331, -330, -332, -331, -330,\n",
       "       -329, -328, -327, -329, -328, -330, -329, -328, -327, -326, -328,\n",
       "       -327, -329, -331, -333, -335, -337, -339, -338, -340, -339, -341,\n",
       "       -340, -342, -341, -340, -339, -341, -343, -342, -344, -343, -342,\n",
       "       -344, -346, -348, -350, -349, -351, -353, -355, -354, -356, -358,\n",
       "       -360, -362, -361, -360, -362, -361, -363, -362, -361, -360, -362,\n",
       "       -364, -366, -365, -367, -369, -368, -370, -369, -371, -373, -375,\n",
       "       -377, -379, -381, -383, -385, -387, -386, -388, -387, -389, -388,\n",
       "       -390, -392, -394, -393, -395, -397, -396, -395, -394, -393, -392,\n",
       "       -391, -393, -392, -391, -390, -389, -391, -393, -395, -397, -399,\n",
       "       -398, -400, -399, -398, -397, -399, -401, -403, -402, -401, -400,\n",
       "       -399, -398, -400, -402, -401, -400, -399, -401, -400, -399, -398,\n",
       "       -400, -402, -401, -400, -402, -404, -406, -408, -410, -409, -411,\n",
       "       -413, -415, -417, -419, -418, -420, -422, -421, -420, -422, -421,\n",
       "       -423, -422, -424, -426, -425, -427, -429, -431, -430, -432, -434,\n",
       "       -433, -435, -434, -436, -435, -437, -439, -438, -440, -439, -438,\n",
       "       -437, -436, -438, -440, -439, -441, -443, -442, -444, -446, -445,\n",
       "       -447, -446, -445, -444, -446, -445, -447, -449, -448, -450, -452,\n",
       "       -454, -453, -452, -454, -453, -455, -454, -453, -455, -454, -456,\n",
       "       -458, -460, -459, -458, -457, -456, -458, -457, -456, -455, -454,\n",
       "       -453, -455, -457, -459, -458, -460, -462, -464, -463, -462, -464,\n",
       "       -466, -465, -467, -466, -468, -470, -472, -474, -473, -472, -474,\n",
       "       -476, -475, -477, -479, -481, -483, -482, -484, -486, -488, -487,\n",
       "       -489, -488, -490, -489, -488, -490, -489, -488, -487, -486, -485,\n",
       "       -484, -483, -482, -484, -483, -482, -481, -480, -482, -481, -483,\n",
       "       -482, -481, -483, -482, -481, -483, -482, -481, -483, -485, -484,\n",
       "       -486, -485, -487, -489, -488, -490, -489, -488, -490, -489, -491,\n",
       "       -490, -489, -491, -490, -492, -491, -490, -492, -494, -496, -495,\n",
       "       -497, -496, -495, -494, -493, -495, -497, -496, -498, -500, -502,\n",
       "       -501, -500, -502, -504, -503, -502, -504, -503, -505, -507, -509,\n",
       "       -511, -510, -512, -514, -513, -512, -511, -513, -512, -511, -510,\n",
       "       -509, -508, -507, -506, -508, -507, -506, -508, -507, -506])"
      ]
     },
     "execution_count": 143,
     "metadata": {},
     "output_type": "execute_result"
    }
   ],
   "source": [
    "walk"
   ]
  },
  {
   "cell_type": "code",
   "execution_count": 144,
   "metadata": {},
   "outputs": [
    {
     "data": {
      "text/plain": [
       "array([False, False, False, False, False, False,  True,  True,  True,\n",
       "        True,  True,  True,  True,  True,  True,  True,  True,  True,\n",
       "        True,  True,  True,  True,  True,  True,  True,  True,  True,\n",
       "        True,  True,  True,  True,  True,  True,  True,  True,  True,\n",
       "        True,  True,  True,  True,  True,  True,  True,  True,  True,\n",
       "        True,  True,  True,  True,  True,  True,  True,  True,  True,\n",
       "        True,  True,  True,  True,  True,  True,  True,  True,  True,\n",
       "        True,  True,  True,  True,  True,  True,  True,  True,  True,\n",
       "        True,  True,  True,  True,  True,  True,  True,  True,  True,\n",
       "        True,  True,  True,  True,  True,  True,  True,  True,  True,\n",
       "        True,  True,  True,  True,  True,  True,  True,  True,  True,\n",
       "        True,  True,  True,  True,  True,  True,  True,  True,  True,\n",
       "        True,  True,  True,  True,  True,  True,  True,  True,  True,\n",
       "        True,  True,  True,  True,  True,  True,  True,  True,  True,\n",
       "        True,  True,  True,  True,  True,  True,  True,  True,  True,\n",
       "        True,  True,  True,  True,  True,  True,  True,  True,  True,\n",
       "        True,  True,  True,  True,  True,  True,  True,  True,  True,\n",
       "        True,  True,  True,  True,  True,  True,  True,  True,  True,\n",
       "        True,  True,  True,  True,  True,  True,  True,  True,  True,\n",
       "        True,  True,  True,  True,  True,  True,  True,  True,  True,\n",
       "        True,  True,  True,  True,  True,  True,  True,  True,  True,\n",
       "        True,  True,  True,  True,  True,  True,  True,  True,  True,\n",
       "        True,  True,  True,  True,  True,  True,  True,  True,  True,\n",
       "        True,  True,  True,  True,  True,  True,  True,  True,  True,\n",
       "        True,  True,  True,  True,  True,  True,  True,  True,  True,\n",
       "        True,  True,  True,  True,  True,  True,  True,  True,  True,\n",
       "        True,  True,  True,  True,  True,  True,  True,  True,  True,\n",
       "        True,  True,  True,  True,  True,  True,  True,  True,  True,\n",
       "        True,  True,  True,  True,  True,  True,  True,  True,  True,\n",
       "        True,  True,  True,  True,  True,  True,  True,  True,  True,\n",
       "        True,  True,  True,  True,  True,  True,  True,  True,  True,\n",
       "        True,  True,  True,  True,  True,  True,  True,  True,  True,\n",
       "        True,  True,  True,  True,  True,  True,  True,  True,  True,\n",
       "        True,  True,  True,  True,  True,  True,  True,  True,  True,\n",
       "        True,  True,  True,  True,  True,  True,  True,  True,  True,\n",
       "        True,  True,  True,  True,  True,  True,  True,  True,  True,\n",
       "        True,  True,  True,  True,  True,  True,  True,  True,  True,\n",
       "        True,  True,  True,  True,  True,  True,  True,  True,  True,\n",
       "        True,  True,  True,  True,  True,  True,  True,  True,  True,\n",
       "        True,  True,  True,  True,  True,  True,  True,  True,  True,\n",
       "        True,  True,  True,  True,  True,  True,  True,  True,  True,\n",
       "        True,  True,  True,  True,  True,  True,  True,  True,  True,\n",
       "        True,  True,  True,  True,  True,  True,  True,  True,  True,\n",
       "        True,  True,  True,  True,  True,  True,  True,  True,  True,\n",
       "        True,  True,  True,  True,  True,  True,  True,  True,  True,\n",
       "        True,  True,  True,  True,  True,  True,  True,  True,  True,\n",
       "        True,  True,  True,  True,  True,  True,  True,  True,  True,\n",
       "        True,  True,  True,  True,  True,  True,  True,  True,  True,\n",
       "        True,  True,  True,  True,  True,  True,  True,  True,  True,\n",
       "        True,  True,  True,  True,  True,  True,  True,  True,  True,\n",
       "        True,  True,  True,  True,  True,  True,  True,  True,  True,\n",
       "        True,  True,  True,  True,  True,  True,  True,  True,  True,\n",
       "        True,  True,  True,  True,  True,  True,  True,  True,  True,\n",
       "        True,  True,  True,  True,  True,  True,  True,  True,  True,\n",
       "        True,  True,  True,  True,  True,  True,  True,  True,  True,\n",
       "        True,  True,  True,  True,  True,  True,  True,  True,  True,\n",
       "        True,  True,  True,  True,  True,  True,  True,  True,  True,\n",
       "        True,  True,  True,  True,  True,  True,  True,  True,  True,\n",
       "        True,  True,  True,  True,  True,  True,  True,  True,  True,\n",
       "        True,  True,  True,  True,  True,  True,  True,  True,  True,\n",
       "        True,  True,  True,  True,  True,  True,  True,  True,  True,\n",
       "        True,  True,  True,  True,  True,  True,  True,  True,  True,\n",
       "        True,  True,  True,  True,  True,  True,  True,  True,  True,\n",
       "        True,  True,  True,  True,  True,  True,  True,  True,  True,\n",
       "        True,  True,  True,  True,  True,  True,  True,  True,  True,\n",
       "        True,  True,  True,  True,  True,  True,  True,  True,  True,\n",
       "        True,  True,  True,  True,  True,  True,  True,  True,  True,\n",
       "        True,  True,  True,  True,  True,  True,  True,  True,  True,\n",
       "        True,  True,  True,  True,  True,  True,  True,  True,  True,\n",
       "        True,  True,  True,  True,  True,  True,  True,  True,  True,\n",
       "        True,  True,  True,  True,  True,  True,  True,  True,  True,\n",
       "        True,  True,  True,  True,  True,  True,  True,  True,  True,\n",
       "        True,  True,  True,  True,  True,  True,  True,  True,  True,\n",
       "        True,  True,  True,  True,  True,  True,  True,  True,  True,\n",
       "        True,  True,  True,  True,  True,  True,  True,  True,  True,\n",
       "        True,  True,  True,  True,  True,  True,  True,  True,  True,\n",
       "        True,  True,  True,  True,  True,  True,  True,  True,  True,\n",
       "        True,  True,  True,  True,  True,  True,  True,  True,  True,\n",
       "        True,  True,  True,  True,  True,  True,  True,  True,  True,\n",
       "        True,  True,  True,  True,  True,  True,  True,  True,  True,\n",
       "        True,  True,  True,  True,  True,  True,  True,  True,  True,\n",
       "        True,  True,  True,  True,  True,  True,  True,  True,  True,\n",
       "        True,  True,  True,  True,  True,  True,  True,  True,  True,\n",
       "        True,  True,  True,  True,  True,  True,  True,  True,  True,\n",
       "        True,  True,  True,  True,  True,  True,  True,  True,  True,\n",
       "        True,  True,  True,  True,  True,  True,  True,  True,  True,\n",
       "        True,  True,  True,  True,  True,  True,  True,  True,  True,\n",
       "        True,  True,  True,  True,  True,  True,  True,  True,  True,\n",
       "        True,  True,  True,  True,  True,  True,  True,  True,  True,\n",
       "        True,  True,  True,  True,  True,  True,  True,  True,  True,\n",
       "        True,  True,  True,  True,  True,  True,  True,  True,  True,\n",
       "        True,  True,  True,  True,  True,  True,  True,  True,  True,\n",
       "        True,  True,  True,  True,  True,  True,  True,  True,  True,\n",
       "        True,  True,  True,  True,  True,  True,  True,  True,  True,\n",
       "        True,  True,  True,  True,  True,  True,  True,  True,  True,\n",
       "        True,  True,  True,  True,  True,  True,  True,  True,  True,\n",
       "        True,  True,  True,  True,  True,  True,  True,  True,  True,\n",
       "        True,  True,  True,  True,  True,  True,  True,  True,  True,\n",
       "        True,  True,  True,  True,  True,  True,  True,  True,  True,\n",
       "        True,  True,  True,  True,  True,  True,  True,  True,  True,\n",
       "        True,  True,  True,  True,  True,  True,  True,  True,  True,\n",
       "        True,  True,  True,  True,  True,  True,  True,  True,  True,\n",
       "        True,  True,  True,  True,  True,  True,  True,  True,  True,\n",
       "        True,  True,  True,  True,  True,  True,  True,  True,  True,\n",
       "        True,  True,  True,  True,  True,  True,  True,  True,  True,\n",
       "        True,  True,  True,  True,  True,  True,  True,  True,  True,\n",
       "        True,  True,  True,  True,  True,  True,  True,  True,  True,\n",
       "        True,  True,  True,  True,  True,  True,  True,  True,  True,\n",
       "        True,  True,  True,  True,  True,  True,  True,  True,  True,\n",
       "        True,  True,  True,  True,  True,  True,  True,  True,  True,\n",
       "        True,  True,  True,  True,  True,  True,  True,  True,  True,  True], dtype=bool)"
      ]
     },
     "execution_count": 144,
     "metadata": {},
     "output_type": "execute_result"
    }
   ],
   "source": [
    "(np.abs(walk)>10)"
   ]
  },
  {
   "cell_type": "code",
   "execution_count": 145,
   "metadata": {
    "collapsed": true
   },
   "outputs": [],
   "source": [
    "nwalks = 5000\n",
    "nsteps = 1000"
   ]
  },
  {
   "cell_type": "code",
   "execution_count": 146,
   "metadata": {
    "collapsed": true
   },
   "outputs": [],
   "source": [
    "draws = np.random.randint(0, 2, size=(nwalks, nsteps))"
   ]
  },
  {
   "cell_type": "code",
   "execution_count": 151,
   "metadata": {},
   "outputs": [
    {
     "data": {
      "text/plain": [
       "(5000, 1000)"
      ]
     },
     "execution_count": 151,
     "metadata": {},
     "output_type": "execute_result"
    }
   ],
   "source": [
    "draws.shape"
   ]
  },
  {
   "cell_type": "code",
   "execution_count": 152,
   "metadata": {},
   "outputs": [
    {
     "data": {
      "text/plain": [
       "array([[0, 0, 1, ..., 1, 0, 1],\n",
       "       [1, 0, 0, ..., 1, 1, 0],\n",
       "       [0, 0, 0, ..., 1, 0, 0],\n",
       "       ..., \n",
       "       [0, 0, 0, ..., 0, 0, 0],\n",
       "       [1, 1, 1, ..., 0, 0, 1],\n",
       "       [0, 1, 1, ..., 0, 1, 1]])"
      ]
     },
     "execution_count": 152,
     "metadata": {},
     "output_type": "execute_result"
    }
   ],
   "source": [
    "draws"
   ]
  },
  {
   "cell_type": "code",
   "execution_count": 153,
   "metadata": {
    "collapsed": true
   },
   "outputs": [],
   "source": [
    "steps = np.where(draws>0, 1, -1)"
   ]
  },
  {
   "cell_type": "code",
   "execution_count": 154,
   "metadata": {},
   "outputs": [
    {
     "data": {
      "text/plain": [
       "array([[-1, -1,  1, ...,  1, -1,  1],\n",
       "       [ 1, -1, -1, ...,  1,  1, -1],\n",
       "       [-1, -1, -1, ...,  1, -1, -1],\n",
       "       ..., \n",
       "       [-1, -1, -1, ..., -1, -1, -1],\n",
       "       [ 1,  1,  1, ..., -1, -1,  1],\n",
       "       [-1,  1,  1, ..., -1,  1,  1]])"
      ]
     },
     "execution_count": 154,
     "metadata": {},
     "output_type": "execute_result"
    }
   ],
   "source": [
    "steps"
   ]
  },
  {
   "cell_type": "code",
   "execution_count": 160,
   "metadata": {},
   "outputs": [],
   "source": [
    "walks = steps.cumsum(1)"
   ]
  },
  {
   "cell_type": "code",
   "execution_count": 157,
   "metadata": {
    "collapsed": true
   },
   "outputs": [],
   "source": [
    "# 지금 행별로 시뮬레이션 돌리는 중"
   ]
  },
  {
   "cell_type": "code",
   "execution_count": 161,
   "metadata": {},
   "outputs": [
    {
     "data": {
      "text/plain": [
       "128"
      ]
     },
     "execution_count": 161,
     "metadata": {},
     "output_type": "execute_result"
    }
   ],
   "source": [
    "walks.max()"
   ]
  },
  {
   "cell_type": "code",
   "execution_count": 162,
   "metadata": {},
   "outputs": [
    {
     "data": {
      "text/plain": [
       "-118"
      ]
     },
     "execution_count": 162,
     "metadata": {},
     "output_type": "execute_result"
    }
   ],
   "source": [
    "walks.min()"
   ]
  },
  {
   "cell_type": "code",
   "execution_count": 164,
   "metadata": {
    "collapsed": true
   },
   "outputs": [],
   "source": [
    "hits30 = (np.abs(walks)>=30).any()"
   ]
  },
  {
   "cell_type": "code",
   "execution_count": 165,
   "metadata": {},
   "outputs": [
    {
     "data": {
      "text/plain": [
       "True"
      ]
     },
     "execution_count": 165,
     "metadata": {},
     "output_type": "execute_result"
    }
   ],
   "source": [
    "hits30"
   ]
  },
  {
   "cell_type": "code",
   "execution_count": 172,
   "metadata": {},
   "outputs": [
    {
     "data": {
      "text/plain": [
       "(5000, 1000)"
      ]
     },
     "execution_count": 172,
     "metadata": {},
     "output_type": "execute_result"
    }
   ],
   "source": [
    "walks.shape"
   ]
  },
  {
   "cell_type": "code",
   "execution_count": 178,
   "metadata": {
    "collapsed": true
   },
   "outputs": [],
   "source": [
    "hits30 = (np.abs(walks)>=30).any(1)"
   ]
  },
  {
   "cell_type": "code",
   "execution_count": 179,
   "metadata": {},
   "outputs": [
    {
     "data": {
      "text/plain": [
       "(5000,)"
      ]
     },
     "execution_count": 179,
     "metadata": {},
     "output_type": "execute_result"
    }
   ],
   "source": [
    "hits30.shape"
   ]
  },
  {
   "cell_type": "code",
   "execution_count": 181,
   "metadata": {},
   "outputs": [
    {
     "data": {
      "text/plain": [
       "3417"
      ]
     },
     "execution_count": 181,
     "metadata": {},
     "output_type": "execute_result"
    }
   ],
   "source": [
    "hits30.sum()"
   ]
  },
  {
   "cell_type": "code",
   "execution_count": 190,
   "metadata": {},
   "outputs": [
    {
     "data": {
      "text/plain": [
       "(3417, 1000)"
      ]
     },
     "execution_count": 190,
     "metadata": {},
     "output_type": "execute_result"
    }
   ],
   "source": [
    "np.abs(walks[hits30]).shape"
   ]
  },
  {
   "cell_type": "code",
   "execution_count": 192,
   "metadata": {},
   "outputs": [],
   "source": [
    "crossing_times = (np.abs(walks[hits30])).argmax(1)"
   ]
  },
  {
   "cell_type": "code",
   "execution_count": 194,
   "metadata": {},
   "outputs": [
    {
     "data": {
      "text/plain": [
       "array([677, 974, 625, ..., 989, 765, 670])"
      ]
     },
     "execution_count": 194,
     "metadata": {},
     "output_type": "execute_result"
    }
   ],
   "source": [
    "crossing_times"
   ]
  },
  {
   "cell_type": "code",
   "execution_count": null,
   "metadata": {
    "collapsed": true
   },
   "outputs": [],
   "source": []
  }
 ],
 "metadata": {
  "kernelspec": {
   "display_name": "Python 3",
   "language": "python",
   "name": "python3"
  },
  "language_info": {
   "codemirror_mode": {
    "name": "ipython",
    "version": 3
   },
   "file_extension": ".py",
   "mimetype": "text/x-python",
   "name": "python",
   "nbconvert_exporter": "python",
   "pygments_lexer": "ipython3",
   "version": "3.6.1"
  }
 },
 "nbformat": 4,
 "nbformat_minor": 2
}
